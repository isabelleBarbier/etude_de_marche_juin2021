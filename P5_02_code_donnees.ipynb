{
 "cells": [
  {
   "cell_type": "markdown",
   "metadata": {},
   "source": [
    "# Produisez une étude de marché"
   ]
  },
  {
   "cell_type": "markdown",
   "metadata": {},
   "source": [
    "## Contexte\n",
    "\n",
    "Spécialisée dans le poulet, une entreprise d'agroalimentaire souhaite se développer à l'international. Tous les pays sont envisageables. \n",
    "\n",
    " - **Objectif** : cibler plus particulièrement certains pays, dans le but d'approfondir ensuite l'étude de marché. Plus particulièrement, l'idéal serait de produire des \"groupes\" de pays, plus ou moins gros, dont on connaît les caractéristiques.\n",
    "\n",
    "Dans un premier temps, la stratégie est plutôt d'exporter les produits plutôt que de produire sur place, c'est-à-dire dans le(s) nouveau(x) pays ciblé(s).\n"
   ]
  },
  {
   "cell_type": "markdown",
   "metadata": {},
   "source": [
    "# Sommaire\n",
    "\n",
    " - [Importation des librairies et définition des constantes ](http://localhost:8888/notebooks/Documents/1produisez_etude_de_marche/P5_donnees.ipynb#Importation-des-librairies-et-d%C3%A9finition-des-constantes)\n",
    " - [Importation des fichiers du site de la FAO](http://localhost:8888/notebooks/Documents/1produisez_etude_de_marche/P5_donnees.ipynb#Importation-des-fichiers-du-site-de-la-FAO-(http://www.fao.org/faostat/fr/#data/FBSH)\n",
    " - [Fichier population](http://localhost:8888/notebooks/Documents/1produisez_etude_de_marche/P5_donnees.ipynb#Fichier-population)\n",
    "     - [Nettoyage (Soudan, Serbie, Monténégro, Antilles néerlandaises)](http://localhost:8888/notebooks/Documents/1produisez_etude_de_marche/P5_donnees.ipynb#Nettoyage-(suppression-de-la-Chine,-valeurs-null,-doublons...)\n",
    "     - [Calcul de la différence de population entre 2003 et 2013, exprimée en pourcentage](http://localhost:8888/notebooks/Documents/1produisez_etude_de_marche/P5_donnees.ipynb#Calcul-de-la-diff%C3%A9rence-de-population-entre-2003-et-2013,-exprim%C3%A9e-en-pourcentage)\n",
    " - [Fichier des données des disponibilités alimentaires](http://localhost:8888/notebooks/Documents/1produisez_etude_de_marche/P5_donnees.ipynb#Fichier-des-donn%C3%A9es-disponibilit%C3%A9-alimentaire-en-2013)\n",
    "     - [Nettoyage des données](http://localhost:8888/notebooks/Documents/1produisez_etude_de_marche/P5_donnees.ipynb#Nettoyage-de-donn%C3%A9es)\n",
    "     - [Calcul des disponibilités totales par pays et par habitant(kcal et g de protéïne)](http://localhost:8888/notebooks/Documents/1produisez_etude_de_marche/P5_donnees.ipynb#Calcul-des-disponibilit%C3%A9s-totales-des-pays-par-habitant-(kcal-et-g-de-prot%C3%A9%C3%AFne)\n",
    " - [Fichier disponibilité alimentaire animale](http://localhost:8888/notebooks/Documents/1produisez_etude_de_marche/P5_donnees.ipynb#Fichier-disponibilit%C3%A9-alimentaire-animale)\n",
    "     - [Nettoyage des données](http://localhost:8888/notebooks/Documents/1produisez_etude_de_marche/P5_donnees.ipynb#Fichier-disponibilit%C3%A9-alimentaire-animale)\n",
    "     - [Calcul des disponibilités alimentaires animales](http://localhost:8888/notebooks/Documents/1produisez_etude_de_marche/P5_donnees.ipynb#Fichier-disponibilit%C3%A9-alimentaire-animale)\n",
    " - [Calcul des proportions de protéïne animale par rapport à la quantité totale de protéïne dans la disponibilité alimentaire du pays](http://localhost:8888/notebooks/Documents/1produisez_etude_de_marche/P5_donnees.ipynb#Proportion-de-prot%C3%A9ines-d'origine-animale-par-rapport-%C3%A0-la-quantit%C3%A9-totale-de-prot%C3%A9ines-dans-la-disponibilit%C3%A9-alimentaire-du-pays)\n",
    " - [Echantillon contenant l'ensemble des pays disponibles, chacun caractérisé par ces variables](http://localhost:8888/notebooks/Documents/1produisez_etude_de_marche/P5_donnees.ipynb#Cr%C3%A9ation-du-dataframe-contenant-les-quatre-variables)\n",
    " - [Données pour effectuer une analyse plus fine lors de l'ACP](http://localhost:8888/notebooks/Documents/P5_etude_marche/P5_donnees.ipynb#Donn%C3%A9es-utilis%C3%A9es-pour-effectuer-une-analyse-plus-fine-lors-de-l'ACP)\n",
    " \n",
    "     \n",
    "     \n",
    "     \n"
   ]
  },
  {
   "cell_type": "markdown",
   "metadata": {},
   "source": [
    "### Importation des librairies et définition des constantes"
   ]
  },
  {
   "cell_type": "code",
   "execution_count": 2,
   "metadata": {},
   "outputs": [],
   "source": [
    "# importation des librairies\n",
    "import pandas as pd\n",
    "import numpy as np\n",
    "import matplotlib.pyplot as plt\n",
    "import seaborn as sns\n",
    "from scipy.stats import ttest_ind"
   ]
  },
  {
   "cell_type": "code",
   "execution_count": 3,
   "metadata": {},
   "outputs": [],
   "source": [
    "ENCODAGE = 'UTF-8'"
   ]
  },
  {
   "cell_type": "code",
   "execution_count": 4,
   "metadata": {},
   "outputs": [],
   "source": [
    "UNITE_VALEUR_POP = 1000"
   ]
  },
  {
   "cell_type": "markdown",
   "metadata": {},
   "source": [
    "### Importation des fichiers du site de la FAO (http://www.fao.org/faostat/fr/#data/FBSH)"
   ]
  },
  {
   "cell_type": "markdown",
   "metadata": {},
   "source": [
    "Choix des années 2013 et 2003 car les données appartiennent aux Bilans Alimentaires (Ancienne méthodologie et population)"
   ]
  },
  {
   "cell_type": "code",
   "execution_count": 5,
   "metadata": {},
   "outputs": [
    {
     "data": {
      "text/html": [
       "<div>\n",
       "<style scoped>\n",
       "    .dataframe tbody tr th:only-of-type {\n",
       "        vertical-align: middle;\n",
       "    }\n",
       "\n",
       "    .dataframe tbody tr th {\n",
       "        vertical-align: top;\n",
       "    }\n",
       "\n",
       "    .dataframe thead th {\n",
       "        text-align: right;\n",
       "    }\n",
       "</style>\n",
       "<table border=\"1\" class=\"dataframe\">\n",
       "  <thead>\n",
       "    <tr style=\"text-align: right;\">\n",
       "      <th></th>\n",
       "      <th>Code Domaine</th>\n",
       "      <th>Domaine</th>\n",
       "      <th>Code zone</th>\n",
       "      <th>Zone</th>\n",
       "      <th>Code Élément</th>\n",
       "      <th>Élément</th>\n",
       "      <th>Code Produit</th>\n",
       "      <th>Produit</th>\n",
       "      <th>Code année</th>\n",
       "      <th>Année</th>\n",
       "      <th>Unité</th>\n",
       "      <th>Valeur</th>\n",
       "      <th>Symbole</th>\n",
       "      <th>Description du Symbole</th>\n",
       "    </tr>\n",
       "  </thead>\n",
       "  <tbody>\n",
       "    <tr>\n",
       "      <th>0</th>\n",
       "      <td>FBSH</td>\n",
       "      <td>Bilans Alimentaire (Ancienne méthodologie et p...</td>\n",
       "      <td>2</td>\n",
       "      <td>Afghanistan</td>\n",
       "      <td>511</td>\n",
       "      <td>Population totale</td>\n",
       "      <td>2501</td>\n",
       "      <td>Population</td>\n",
       "      <td>2003</td>\n",
       "      <td>2003</td>\n",
       "      <td>1000 personnes</td>\n",
       "      <td>23116</td>\n",
       "      <td>NaN</td>\n",
       "      <td>Donnée officielle</td>\n",
       "    </tr>\n",
       "    <tr>\n",
       "      <th>1</th>\n",
       "      <td>FBSH</td>\n",
       "      <td>Bilans Alimentaire (Ancienne méthodologie et p...</td>\n",
       "      <td>2</td>\n",
       "      <td>Afghanistan</td>\n",
       "      <td>511</td>\n",
       "      <td>Population totale</td>\n",
       "      <td>2501</td>\n",
       "      <td>Population</td>\n",
       "      <td>2013</td>\n",
       "      <td>2013</td>\n",
       "      <td>1000 personnes</td>\n",
       "      <td>30552</td>\n",
       "      <td>NaN</td>\n",
       "      <td>Donnée officielle</td>\n",
       "    </tr>\n",
       "    <tr>\n",
       "      <th>2</th>\n",
       "      <td>FBSH</td>\n",
       "      <td>Bilans Alimentaire (Ancienne méthodologie et p...</td>\n",
       "      <td>202</td>\n",
       "      <td>Afrique du Sud</td>\n",
       "      <td>511</td>\n",
       "      <td>Population totale</td>\n",
       "      <td>2501</td>\n",
       "      <td>Population</td>\n",
       "      <td>2003</td>\n",
       "      <td>2003</td>\n",
       "      <td>1000 personnes</td>\n",
       "      <td>46869</td>\n",
       "      <td>NaN</td>\n",
       "      <td>Donnée officielle</td>\n",
       "    </tr>\n",
       "    <tr>\n",
       "      <th>3</th>\n",
       "      <td>FBSH</td>\n",
       "      <td>Bilans Alimentaire (Ancienne méthodologie et p...</td>\n",
       "      <td>202</td>\n",
       "      <td>Afrique du Sud</td>\n",
       "      <td>511</td>\n",
       "      <td>Population totale</td>\n",
       "      <td>2501</td>\n",
       "      <td>Population</td>\n",
       "      <td>2013</td>\n",
       "      <td>2013</td>\n",
       "      <td>1000 personnes</td>\n",
       "      <td>52776</td>\n",
       "      <td>NaN</td>\n",
       "      <td>Donnée officielle</td>\n",
       "    </tr>\n",
       "    <tr>\n",
       "      <th>4</th>\n",
       "      <td>FBSH</td>\n",
       "      <td>Bilans Alimentaire (Ancienne méthodologie et p...</td>\n",
       "      <td>3</td>\n",
       "      <td>Albanie</td>\n",
       "      <td>511</td>\n",
       "      <td>Population totale</td>\n",
       "      <td>2501</td>\n",
       "      <td>Population</td>\n",
       "      <td>2003</td>\n",
       "      <td>2003</td>\n",
       "      <td>1000 personnes</td>\n",
       "      <td>3239</td>\n",
       "      <td>NaN</td>\n",
       "      <td>Donnée officielle</td>\n",
       "    </tr>\n",
       "    <tr>\n",
       "      <th>...</th>\n",
       "      <td>...</td>\n",
       "      <td>...</td>\n",
       "      <td>...</td>\n",
       "      <td>...</td>\n",
       "      <td>...</td>\n",
       "      <td>...</td>\n",
       "      <td>...</td>\n",
       "      <td>...</td>\n",
       "      <td>...</td>\n",
       "      <td>...</td>\n",
       "      <td>...</td>\n",
       "      <td>...</td>\n",
       "      <td>...</td>\n",
       "      <td>...</td>\n",
       "    </tr>\n",
       "    <tr>\n",
       "      <th>345</th>\n",
       "      <td>FBSH</td>\n",
       "      <td>Bilans Alimentaire (Ancienne méthodologie et p...</td>\n",
       "      <td>249</td>\n",
       "      <td>Yémen</td>\n",
       "      <td>511</td>\n",
       "      <td>Population totale</td>\n",
       "      <td>2501</td>\n",
       "      <td>Population</td>\n",
       "      <td>2013</td>\n",
       "      <td>2013</td>\n",
       "      <td>1000 personnes</td>\n",
       "      <td>24407</td>\n",
       "      <td>NaN</td>\n",
       "      <td>Donnée officielle</td>\n",
       "    </tr>\n",
       "    <tr>\n",
       "      <th>346</th>\n",
       "      <td>FBSH</td>\n",
       "      <td>Bilans Alimentaire (Ancienne méthodologie et p...</td>\n",
       "      <td>251</td>\n",
       "      <td>Zambie</td>\n",
       "      <td>511</td>\n",
       "      <td>Population totale</td>\n",
       "      <td>2501</td>\n",
       "      <td>Population</td>\n",
       "      <td>2003</td>\n",
       "      <td>2003</td>\n",
       "      <td>1000 personnes</td>\n",
       "      <td>10895</td>\n",
       "      <td>NaN</td>\n",
       "      <td>Donnée officielle</td>\n",
       "    </tr>\n",
       "    <tr>\n",
       "      <th>347</th>\n",
       "      <td>FBSH</td>\n",
       "      <td>Bilans Alimentaire (Ancienne méthodologie et p...</td>\n",
       "      <td>251</td>\n",
       "      <td>Zambie</td>\n",
       "      <td>511</td>\n",
       "      <td>Population totale</td>\n",
       "      <td>2501</td>\n",
       "      <td>Population</td>\n",
       "      <td>2013</td>\n",
       "      <td>2013</td>\n",
       "      <td>1000 personnes</td>\n",
       "      <td>14539</td>\n",
       "      <td>NaN</td>\n",
       "      <td>Donnée officielle</td>\n",
       "    </tr>\n",
       "    <tr>\n",
       "      <th>348</th>\n",
       "      <td>FBSH</td>\n",
       "      <td>Bilans Alimentaire (Ancienne méthodologie et p...</td>\n",
       "      <td>181</td>\n",
       "      <td>Zimbabwe</td>\n",
       "      <td>511</td>\n",
       "      <td>Population totale</td>\n",
       "      <td>2501</td>\n",
       "      <td>Population</td>\n",
       "      <td>2003</td>\n",
       "      <td>2003</td>\n",
       "      <td>1000 personnes</td>\n",
       "      <td>12673</td>\n",
       "      <td>NaN</td>\n",
       "      <td>Donnée officielle</td>\n",
       "    </tr>\n",
       "    <tr>\n",
       "      <th>349</th>\n",
       "      <td>FBSH</td>\n",
       "      <td>Bilans Alimentaire (Ancienne méthodologie et p...</td>\n",
       "      <td>181</td>\n",
       "      <td>Zimbabwe</td>\n",
       "      <td>511</td>\n",
       "      <td>Population totale</td>\n",
       "      <td>2501</td>\n",
       "      <td>Population</td>\n",
       "      <td>2013</td>\n",
       "      <td>2013</td>\n",
       "      <td>1000 personnes</td>\n",
       "      <td>14150</td>\n",
       "      <td>NaN</td>\n",
       "      <td>Donnée officielle</td>\n",
       "    </tr>\n",
       "  </tbody>\n",
       "</table>\n",
       "<p>350 rows × 14 columns</p>\n",
       "</div>"
      ],
      "text/plain": [
       "    Code Domaine                                            Domaine  \\\n",
       "0           FBSH  Bilans Alimentaire (Ancienne méthodologie et p...   \n",
       "1           FBSH  Bilans Alimentaire (Ancienne méthodologie et p...   \n",
       "2           FBSH  Bilans Alimentaire (Ancienne méthodologie et p...   \n",
       "3           FBSH  Bilans Alimentaire (Ancienne méthodologie et p...   \n",
       "4           FBSH  Bilans Alimentaire (Ancienne méthodologie et p...   \n",
       "..           ...                                                ...   \n",
       "345         FBSH  Bilans Alimentaire (Ancienne méthodologie et p...   \n",
       "346         FBSH  Bilans Alimentaire (Ancienne méthodologie et p...   \n",
       "347         FBSH  Bilans Alimentaire (Ancienne méthodologie et p...   \n",
       "348         FBSH  Bilans Alimentaire (Ancienne méthodologie et p...   \n",
       "349         FBSH  Bilans Alimentaire (Ancienne méthodologie et p...   \n",
       "\n",
       "     Code zone            Zone  Code Élément            Élément  Code Produit  \\\n",
       "0            2     Afghanistan           511  Population totale          2501   \n",
       "1            2     Afghanistan           511  Population totale          2501   \n",
       "2          202  Afrique du Sud           511  Population totale          2501   \n",
       "3          202  Afrique du Sud           511  Population totale          2501   \n",
       "4            3         Albanie           511  Population totale          2501   \n",
       "..         ...             ...           ...                ...           ...   \n",
       "345        249           Yémen           511  Population totale          2501   \n",
       "346        251          Zambie           511  Population totale          2501   \n",
       "347        251          Zambie           511  Population totale          2501   \n",
       "348        181        Zimbabwe           511  Population totale          2501   \n",
       "349        181        Zimbabwe           511  Population totale          2501   \n",
       "\n",
       "        Produit  Code année  Année           Unité  Valeur Symbole  \\\n",
       "0    Population        2003   2003  1000 personnes   23116     NaN   \n",
       "1    Population        2013   2013  1000 personnes   30552     NaN   \n",
       "2    Population        2003   2003  1000 personnes   46869     NaN   \n",
       "3    Population        2013   2013  1000 personnes   52776     NaN   \n",
       "4    Population        2003   2003  1000 personnes    3239     NaN   \n",
       "..          ...         ...    ...             ...     ...     ...   \n",
       "345  Population        2013   2013  1000 personnes   24407     NaN   \n",
       "346  Population        2003   2003  1000 personnes   10895     NaN   \n",
       "347  Population        2013   2013  1000 personnes   14539     NaN   \n",
       "348  Population        2003   2003  1000 personnes   12673     NaN   \n",
       "349  Population        2013   2013  1000 personnes   14150     NaN   \n",
       "\n",
       "    Description du Symbole  \n",
       "0        Donnée officielle  \n",
       "1        Donnée officielle  \n",
       "2        Donnée officielle  \n",
       "3        Donnée officielle  \n",
       "4        Donnée officielle  \n",
       "..                     ...  \n",
       "345      Donnée officielle  \n",
       "346      Donnée officielle  \n",
       "347      Donnée officielle  \n",
       "348      Donnée officielle  \n",
       "349      Donnée officielle  \n",
       "\n",
       "[350 rows x 14 columns]"
      ]
     },
     "execution_count": 5,
     "metadata": {},
     "output_type": "execute_result"
    }
   ],
   "source": [
    "# importation des données population 2003 - 2013\n",
    "df_population_fao = pd.read_csv('FAOSTAT_population_2013_2003.csv', encoding=ENCODAGE)"
   ]
  },
  {
   "cell_type": "code",
   "execution_count": 5,
   "metadata": {},
   "outputs": [],
   "source": [
    "# importation des données disponibilité alimentaire en 2013 \n",
    "df_dispo_fao = pd.read_csv('FAOSTAT_disponibilite_alimentaire_2013.csv', encoding=ENCODAGE)"
   ]
  },
  {
   "cell_type": "code",
   "execution_count": 6,
   "metadata": {},
   "outputs": [],
   "source": [
    "# importation des données disponibilité alimentaire animale en 2013 \n",
    "df_dispoAni_fao = pd.read_csv('FAOSTAT_disponibilite_animale_2013.csv', encoding=ENCODAGE)"
   ]
  },
  {
   "cell_type": "markdown",
   "metadata": {},
   "source": [
    "### Fichier population"
   ]
  },
  {
   "cell_type": "markdown",
   "metadata": {},
   "source": [
    "#### Nettoyage (suppression de la Chine, valeurs null, doublons...)"
   ]
  },
  {
   "cell_type": "code",
   "execution_count": 7,
   "metadata": {},
   "outputs": [],
   "source": [
    "# On ne récupère que les colonnes qui nous interressent\n",
    "df_population_fao = df_population_fao.loc[:,['Code zone','Zone', 'Code année','Année','Unité','Valeur']]"
   ]
  },
  {
   "cell_type": "code",
   "execution_count": 8,
   "metadata": {
    "scrolled": false
   },
   "outputs": [
    {
     "data": {
      "text/plain": [
       "(350, 6)"
      ]
     },
     "execution_count": 8,
     "metadata": {},
     "output_type": "execute_result"
    }
   ],
   "source": [
    "df_population_fao.shape"
   ]
  },
  {
   "cell_type": "code",
   "execution_count": 9,
   "metadata": {},
   "outputs": [],
   "source": [
    "df_pop = df_population_fao.copy()"
   ]
  },
  {
   "cell_type": "markdown",
   "metadata": {},
   "source": [
    "Suppression de la Chine car conservation des terrictoires indépendants pour avoir des données plus fines"
   ]
  },
  {
   "cell_type": "code",
   "execution_count": 10,
   "metadata": {},
   "outputs": [
    {
     "data": {
      "text/html": [
       "<div>\n",
       "<style scoped>\n",
       "    .dataframe tbody tr th:only-of-type {\n",
       "        vertical-align: middle;\n",
       "    }\n",
       "\n",
       "    .dataframe tbody tr th {\n",
       "        vertical-align: top;\n",
       "    }\n",
       "\n",
       "    .dataframe thead th {\n",
       "        text-align: right;\n",
       "    }\n",
       "</style>\n",
       "<table border=\"1\" class=\"dataframe\">\n",
       "  <thead>\n",
       "    <tr style=\"text-align: right;\">\n",
       "      <th></th>\n",
       "      <th>Code zone</th>\n",
       "      <th>Zone</th>\n",
       "      <th>Code année</th>\n",
       "      <th>Année</th>\n",
       "      <th>Unité</th>\n",
       "      <th>Valeur</th>\n",
       "    </tr>\n",
       "  </thead>\n",
       "  <tbody>\n",
       "    <tr>\n",
       "      <th>67</th>\n",
       "      <td>351</td>\n",
       "      <td>Chine</td>\n",
       "      <td>2003</td>\n",
       "      <td>2003</td>\n",
       "      <td>1000 personnes</td>\n",
       "      <td>1332606</td>\n",
       "    </tr>\n",
       "    <tr>\n",
       "      <th>68</th>\n",
       "      <td>351</td>\n",
       "      <td>Chine</td>\n",
       "      <td>2013</td>\n",
       "      <td>2013</td>\n",
       "      <td>1000 personnes</td>\n",
       "      <td>1416667</td>\n",
       "    </tr>\n",
       "  </tbody>\n",
       "</table>\n",
       "</div>"
      ],
      "text/plain": [
       "    Code zone   Zone  Code année  Année           Unité   Valeur\n",
       "67        351  Chine        2003   2003  1000 personnes  1332606\n",
       "68        351  Chine        2013   2013  1000 personnes  1416667"
      ]
     },
     "execution_count": 10,
     "metadata": {},
     "output_type": "execute_result"
    }
   ],
   "source": [
    "df_pop[df_pop['Code zone'] == 351]"
   ]
  },
  {
   "cell_type": "code",
   "execution_count": 11,
   "metadata": {},
   "outputs": [],
   "source": [
    "# Suppression de la Chine dans df_population car doublon avec les terrictoires indépendants\n",
    "df_pop.drop(df_pop[df_pop['Code zone'] == 351].index, inplace=True)"
   ]
  },
  {
   "cell_type": "code",
   "execution_count": 12,
   "metadata": {},
   "outputs": [
    {
     "data": {
      "text/plain": [
       "(348, 6)"
      ]
     },
     "execution_count": 12,
     "metadata": {},
     "output_type": "execute_result"
    }
   ],
   "source": [
    "df_pop.shape"
   ]
  },
  {
   "cell_type": "markdown",
   "metadata": {},
   "source": [
    "- Analyse de données"
   ]
  },
  {
   "cell_type": "code",
   "execution_count": 13,
   "metadata": {
    "scrolled": false
   },
   "outputs": [
    {
     "data": {
      "text/html": [
       "<div>\n",
       "<style scoped>\n",
       "    .dataframe tbody tr th:only-of-type {\n",
       "        vertical-align: middle;\n",
       "    }\n",
       "\n",
       "    .dataframe tbody tr th {\n",
       "        vertical-align: top;\n",
       "    }\n",
       "\n",
       "    .dataframe thead th {\n",
       "        text-align: right;\n",
       "    }\n",
       "</style>\n",
       "<table border=\"1\" class=\"dataframe\">\n",
       "  <thead>\n",
       "    <tr style=\"text-align: right;\">\n",
       "      <th></th>\n",
       "      <th>Code zone</th>\n",
       "      <th>Code année</th>\n",
       "      <th>Année</th>\n",
       "      <th>Valeur</th>\n",
       "    </tr>\n",
       "  </thead>\n",
       "  <tbody>\n",
       "    <tr>\n",
       "      <th>count</th>\n",
       "      <td>348.000000</td>\n",
       "      <td>348.000000</td>\n",
       "      <td>348.000000</td>\n",
       "      <td>3.480000e+02</td>\n",
       "    </tr>\n",
       "    <tr>\n",
       "      <th>mean</th>\n",
       "      <td>124.632184</td>\n",
       "      <td>2008.000000</td>\n",
       "      <td>2008.000000</td>\n",
       "      <td>3.803688e+04</td>\n",
       "    </tr>\n",
       "    <tr>\n",
       "      <th>std</th>\n",
       "      <td>72.218587</td>\n",
       "      <td>5.007199</td>\n",
       "      <td>5.007199</td>\n",
       "      <td>1.390324e+05</td>\n",
       "    </tr>\n",
       "    <tr>\n",
       "      <th>min</th>\n",
       "      <td>1.000000</td>\n",
       "      <td>2003.000000</td>\n",
       "      <td>2003.000000</td>\n",
       "      <td>4.800000e+01</td>\n",
       "    </tr>\n",
       "    <tr>\n",
       "      <th>25%</th>\n",
       "      <td>63.000000</td>\n",
       "      <td>2003.000000</td>\n",
       "      <td>2003.000000</td>\n",
       "      <td>2.245000e+03</td>\n",
       "    </tr>\n",
       "    <tr>\n",
       "      <th>50%</th>\n",
       "      <td>120.500000</td>\n",
       "      <td>2008.000000</td>\n",
       "      <td>2008.000000</td>\n",
       "      <td>8.969000e+03</td>\n",
       "    </tr>\n",
       "    <tr>\n",
       "      <th>75%</th>\n",
       "      <td>185.250000</td>\n",
       "      <td>2013.000000</td>\n",
       "      <td>2013.000000</td>\n",
       "      <td>2.561475e+04</td>\n",
       "    </tr>\n",
       "    <tr>\n",
       "      <th>max</th>\n",
       "      <td>276.000000</td>\n",
       "      <td>2013.000000</td>\n",
       "      <td>2013.000000</td>\n",
       "      <td>1.385567e+06</td>\n",
       "    </tr>\n",
       "  </tbody>\n",
       "</table>\n",
       "</div>"
      ],
      "text/plain": [
       "        Code zone   Code année        Année        Valeur\n",
       "count  348.000000   348.000000   348.000000  3.480000e+02\n",
       "mean   124.632184  2008.000000  2008.000000  3.803688e+04\n",
       "std     72.218587     5.007199     5.007199  1.390324e+05\n",
       "min      1.000000  2003.000000  2003.000000  4.800000e+01\n",
       "25%     63.000000  2003.000000  2003.000000  2.245000e+03\n",
       "50%    120.500000  2008.000000  2008.000000  8.969000e+03\n",
       "75%    185.250000  2013.000000  2013.000000  2.561475e+04\n",
       "max    276.000000  2013.000000  2013.000000  1.385567e+06"
      ]
     },
     "execution_count": 13,
     "metadata": {},
     "output_type": "execute_result"
    }
   ],
   "source": [
    "df_pop.describe()"
   ]
  },
  {
   "cell_type": "code",
   "execution_count": 14,
   "metadata": {
    "scrolled": true
   },
   "outputs": [
    {
     "data": {
      "text/plain": [
       "Code zone      int64\n",
       "Zone          object\n",
       "Code année     int64\n",
       "Année          int64\n",
       "Unité         object\n",
       "Valeur         int64\n",
       "dtype: object"
      ]
     },
     "execution_count": 14,
     "metadata": {},
     "output_type": "execute_result"
    }
   ],
   "source": [
    "df_pop.dtypes"
   ]
  },
  {
   "cell_type": "code",
   "execution_count": 15,
   "metadata": {
    "scrolled": false
   },
   "outputs": [
    {
     "data": {
      "text/plain": [
       "Code zone     0\n",
       "Zone          0\n",
       "Code année    0\n",
       "Année         0\n",
       "Unité         0\n",
       "Valeur        0\n",
       "dtype: int64"
      ]
     },
     "execution_count": 15,
     "metadata": {},
     "output_type": "execute_result"
    }
   ],
   "source": [
    "# pas de valeurs null \n",
    "df_pop.isnull().sum()"
   ]
  },
  {
   "cell_type": "code",
   "execution_count": 16,
   "metadata": {},
   "outputs": [
    {
     "data": {
      "text/plain": [
       "0"
      ]
     },
     "execution_count": 16,
     "metadata": {},
     "output_type": "execute_result"
    }
   ],
   "source": [
    "# pas de doublons\n",
    "df_pop.duplicated().sum()"
   ]
  },
  {
   "cell_type": "code",
   "execution_count": 17,
   "metadata": {},
   "outputs": [],
   "source": [
    "# création d'une colonne 'population'\n",
    "df_pop['population']= df_pop['Valeur'] * UNITE_VALEUR_POP"
   ]
  },
  {
   "cell_type": "code",
   "execution_count": 18,
   "metadata": {},
   "outputs": [],
   "source": [
    "df_popu = df_pop.loc[:,['Code zone','Zone', 'Année', 'population']]"
   ]
  },
  {
   "cell_type": "code",
   "execution_count": 19,
   "metadata": {
    "scrolled": false
   },
   "outputs": [
    {
     "data": {
      "text/html": [
       "<div>\n",
       "<style scoped>\n",
       "    .dataframe tbody tr th:only-of-type {\n",
       "        vertical-align: middle;\n",
       "    }\n",
       "\n",
       "    .dataframe tbody tr th {\n",
       "        vertical-align: top;\n",
       "    }\n",
       "\n",
       "    .dataframe thead th {\n",
       "        text-align: right;\n",
       "    }\n",
       "</style>\n",
       "<table border=\"1\" class=\"dataframe\">\n",
       "  <thead>\n",
       "    <tr style=\"text-align: right;\">\n",
       "      <th></th>\n",
       "      <th>Code zone</th>\n",
       "      <th>Zone</th>\n",
       "      <th>Année</th>\n",
       "      <th>population</th>\n",
       "    </tr>\n",
       "  </thead>\n",
       "  <tbody>\n",
       "    <tr>\n",
       "      <th>0</th>\n",
       "      <td>2</td>\n",
       "      <td>Afghanistan</td>\n",
       "      <td>2003</td>\n",
       "      <td>23116000</td>\n",
       "    </tr>\n",
       "    <tr>\n",
       "      <th>1</th>\n",
       "      <td>2</td>\n",
       "      <td>Afghanistan</td>\n",
       "      <td>2013</td>\n",
       "      <td>30552000</td>\n",
       "    </tr>\n",
       "  </tbody>\n",
       "</table>\n",
       "</div>"
      ],
      "text/plain": [
       "   Code zone         Zone  Année  population\n",
       "0          2  Afghanistan   2003    23116000\n",
       "1          2  Afghanistan   2013    30552000"
      ]
     },
     "execution_count": 19,
     "metadata": {},
     "output_type": "execute_result"
    }
   ],
   "source": [
    "df_popu.head(2)"
   ]
  },
  {
   "cell_type": "code",
   "execution_count": 20,
   "metadata": {
    "scrolled": false
   },
   "outputs": [
    {
     "data": {
      "text/html": [
       "<div>\n",
       "<style scoped>\n",
       "    .dataframe tbody tr th:only-of-type {\n",
       "        vertical-align: middle;\n",
       "    }\n",
       "\n",
       "    .dataframe tbody tr th {\n",
       "        vertical-align: top;\n",
       "    }\n",
       "\n",
       "    .dataframe thead th {\n",
       "        text-align: right;\n",
       "    }\n",
       "</style>\n",
       "<table border=\"1\" class=\"dataframe\">\n",
       "  <thead>\n",
       "    <tr style=\"text-align: right;\">\n",
       "      <th></th>\n",
       "      <th>Code zone</th>\n",
       "      <th>Zone</th>\n",
       "      <th>Année</th>\n",
       "      <th>population</th>\n",
       "    </tr>\n",
       "  </thead>\n",
       "  <tbody>\n",
       "    <tr>\n",
       "      <th>219</th>\n",
       "      <td>273</td>\n",
       "      <td>Monténégro</td>\n",
       "      <td>2013</td>\n",
       "      <td>621000</td>\n",
       "    </tr>\n",
       "  </tbody>\n",
       "</table>\n",
       "</div>"
      ],
      "text/plain": [
       "     Code zone        Zone  Année  population\n",
       "219        273  Monténégro   2013      621000"
      ]
     },
     "execution_count": 20,
     "metadata": {},
     "output_type": "execute_result"
    }
   ],
   "source": [
    "df_popu[df_popu['Zone']== 'Monténégro']"
   ]
  },
  {
   "cell_type": "code",
   "execution_count": 21,
   "metadata": {
    "scrolled": true
   },
   "outputs": [
    {
     "data": {
      "text/html": [
       "<div>\n",
       "<style scoped>\n",
       "    .dataframe tbody tr th:only-of-type {\n",
       "        vertical-align: middle;\n",
       "    }\n",
       "\n",
       "    .dataframe tbody tr th {\n",
       "        vertical-align: top;\n",
       "    }\n",
       "\n",
       "    .dataframe thead th {\n",
       "        text-align: right;\n",
       "    }\n",
       "</style>\n",
       "<table border=\"1\" class=\"dataframe\">\n",
       "  <thead>\n",
       "    <tr style=\"text-align: right;\">\n",
       "      <th></th>\n",
       "      <th>Code zone</th>\n",
       "      <th>Zone</th>\n",
       "      <th>Année</th>\n",
       "      <th>population</th>\n",
       "    </tr>\n",
       "  </thead>\n",
       "  <tbody>\n",
       "    <tr>\n",
       "      <th>219</th>\n",
       "      <td>273</td>\n",
       "      <td>Monténégro</td>\n",
       "      <td>2013</td>\n",
       "      <td>621000</td>\n",
       "    </tr>\n",
       "  </tbody>\n",
       "</table>\n",
       "</div>"
      ],
      "text/plain": [
       "     Code zone        Zone  Année  population\n",
       "219        273  Monténégro   2013      621000"
      ]
     },
     "execution_count": 21,
     "metadata": {},
     "output_type": "execute_result"
    }
   ],
   "source": [
    "df_popu[df_popu['Code zone']== 273]"
   ]
  },
  {
   "cell_type": "markdown",
   "metadata": {},
   "source": [
    "#### Modification des données \"Serbie\" et \"Monténégro\" : séparation des 2 en 2003.\n",
    "Imputation par ratio des données \"Serbie-et-Monténégro\" de 2003 pour avoir une population estimée pour chacun des 2 terrictoires."
   ]
  },
  {
   "cell_type": "code",
   "execution_count": 22,
   "metadata": {
    "scrolled": false
   },
   "outputs": [
    {
     "data": {
      "text/plain": [
       "15.31561996779388"
      ]
     },
     "execution_count": 22,
     "metadata": {},
     "output_type": "execute_result"
    }
   ],
   "source": [
    "#  ratio de la population de Serbie(272) et de la population du Monténégro(273)(en fonction des données de 2013)\n",
    "ratio_SerbieMotenegro = df_popu[df_popu['Code zone']== 272]['population'].values[0] / df_popu[df_popu['Code zone']== 273]['population'].values[0]\n",
    "ratio_SerbieMotenegro"
   ]
  },
  {
   "cell_type": "markdown",
   "metadata": {},
   "source": [
    "La population de Serbie est ~ 15 fois supérieure à celle du Monténégro."
   ]
  },
  {
   "cell_type": "code",
   "execution_count": 23,
   "metadata": {
    "scrolled": true
   },
   "outputs": [
    {
     "data": {
      "text/plain": [
       "10584000"
      ]
     },
     "execution_count": 23,
     "metadata": {},
     "output_type": "execute_result"
    }
   ],
   "source": [
    "# population totale en 2003 Serbie_Monténégro confondues\n",
    "pop_SerbieMontengro = df_popu[df_popu['Code zone']== 186]['population'].values[0]\n",
    "pop_SerbieMontengro"
   ]
  },
  {
   "cell_type": "code",
   "execution_count": 24,
   "metadata": {},
   "outputs": [
    {
     "data": {
      "text/plain": [
       "648703.5136202133"
      ]
     },
     "execution_count": 24,
     "metadata": {},
     "output_type": "execute_result"
    }
   ],
   "source": [
    "# Population estimée de Monténégro en 2003\n",
    "pop_Montenegro = pop_SerbieMontengro / (ratio_SerbieMotenegro + 1)\n",
    "pop_Montenegro"
   ]
  },
  {
   "cell_type": "code",
   "execution_count": 25,
   "metadata": {},
   "outputs": [
    {
     "data": {
      "text/plain": [
       "9935296.486379787"
      ]
     },
     "execution_count": 25,
     "metadata": {},
     "output_type": "execute_result"
    }
   ],
   "source": [
    "# Population estimée de Serbie en 2003\n",
    "df_popSerbie = pop_Montenegro * ratio_SerbieMotenegro\n",
    "df_popSerbie"
   ]
  },
  {
   "cell_type": "markdown",
   "metadata": {},
   "source": [
    "Mise à jour des données de 2003 pour la Serbie et le Monténégro"
   ]
  },
  {
   "cell_type": "code",
   "execution_count": 26,
   "metadata": {},
   "outputs": [],
   "source": [
    "# Modification du code zone et de l'appelation de Serbie-et-Monténégro dans le dataframe\n",
    "df_popu = df_popu.replace(to_replace =[186, \"Serbie-et-Monténégro\", 10584000], \n",
    "                            value = [273, \"Monténégro\", int(pop_Montenegro)])"
   ]
  },
  {
   "cell_type": "code",
   "execution_count": 27,
   "metadata": {},
   "outputs": [
    {
     "data": {
      "text/html": [
       "<div>\n",
       "<style scoped>\n",
       "    .dataframe tbody tr th:only-of-type {\n",
       "        vertical-align: middle;\n",
       "    }\n",
       "\n",
       "    .dataframe tbody tr th {\n",
       "        vertical-align: top;\n",
       "    }\n",
       "\n",
       "    .dataframe thead th {\n",
       "        text-align: right;\n",
       "    }\n",
       "</style>\n",
       "<table border=\"1\" class=\"dataframe\">\n",
       "  <thead>\n",
       "    <tr style=\"text-align: right;\">\n",
       "      <th></th>\n",
       "      <th>Code zone</th>\n",
       "      <th>Zone</th>\n",
       "      <th>Année</th>\n",
       "      <th>population</th>\n",
       "    </tr>\n",
       "  </thead>\n",
       "  <tbody>\n",
       "    <tr>\n",
       "      <th>219</th>\n",
       "      <td>273</td>\n",
       "      <td>Monténégro</td>\n",
       "      <td>2013</td>\n",
       "      <td>621000</td>\n",
       "    </tr>\n",
       "    <tr>\n",
       "      <th>297</th>\n",
       "      <td>273</td>\n",
       "      <td>Monténégro</td>\n",
       "      <td>2003</td>\n",
       "      <td>648703</td>\n",
       "    </tr>\n",
       "  </tbody>\n",
       "</table>\n",
       "</div>"
      ],
      "text/plain": [
       "     Code zone        Zone  Année  population\n",
       "219        273  Monténégro   2013      621000\n",
       "297        273  Monténégro   2003      648703"
      ]
     },
     "execution_count": 27,
     "metadata": {},
     "output_type": "execute_result"
    }
   ],
   "source": [
    "# Vérification\n",
    "df_popu[df_popu['Zone']== 'Monténégro']"
   ]
  },
  {
   "cell_type": "code",
   "execution_count": 28,
   "metadata": {},
   "outputs": [],
   "source": [
    "# Ajout des données 2003 de Serbie implémentées dans le dataframe\n",
    "df_popu = df_popu.append({'Code zone' : 272 , 'Zone' : 'Serbie', 'Année' : 2003,'population':int(df_popSerbie)} , ignore_index=True)"
   ]
  },
  {
   "cell_type": "code",
   "execution_count": 29,
   "metadata": {},
   "outputs": [
    {
     "data": {
      "text/html": [
       "<div>\n",
       "<style scoped>\n",
       "    .dataframe tbody tr th:only-of-type {\n",
       "        vertical-align: middle;\n",
       "    }\n",
       "\n",
       "    .dataframe tbody tr th {\n",
       "        vertical-align: top;\n",
       "    }\n",
       "\n",
       "    .dataframe thead th {\n",
       "        text-align: right;\n",
       "    }\n",
       "</style>\n",
       "<table border=\"1\" class=\"dataframe\">\n",
       "  <thead>\n",
       "    <tr style=\"text-align: right;\">\n",
       "      <th></th>\n",
       "      <th>Code zone</th>\n",
       "      <th>Zone</th>\n",
       "      <th>Année</th>\n",
       "      <th>population</th>\n",
       "    </tr>\n",
       "  </thead>\n",
       "  <tbody>\n",
       "    <tr>\n",
       "      <th>294</th>\n",
       "      <td>272</td>\n",
       "      <td>Serbie</td>\n",
       "      <td>2013</td>\n",
       "      <td>9511000</td>\n",
       "    </tr>\n",
       "    <tr>\n",
       "      <th>348</th>\n",
       "      <td>272</td>\n",
       "      <td>Serbie</td>\n",
       "      <td>2003</td>\n",
       "      <td>9935296</td>\n",
       "    </tr>\n",
       "  </tbody>\n",
       "</table>\n",
       "</div>"
      ],
      "text/plain": [
       "     Code zone    Zone  Année  population\n",
       "294        272  Serbie   2013     9511000\n",
       "348        272  Serbie   2003     9935296"
      ]
     },
     "execution_count": 29,
     "metadata": {},
     "output_type": "execute_result"
    }
   ],
   "source": [
    "# Vérification\n",
    "df_popu[df_popu['Zone']== 'Serbie']"
   ]
  },
  {
   "cell_type": "markdown",
   "metadata": {},
   "source": [
    "#### Modification des données de \"Soudan (ex)\" en \"Soudan\""
   ]
  },
  {
   "cell_type": "code",
   "execution_count": 30,
   "metadata": {},
   "outputs": [],
   "source": [
    "# Modification du code zone et de l'appelation du Soudan\n",
    "df_popu = df_popu.replace(to_replace =[int(206) , \"Soudan (ex)\"], \n",
    "                            value = [int(276) , \"Soudan\"])"
   ]
  },
  {
   "cell_type": "code",
   "execution_count": 31,
   "metadata": {
    "scrolled": true
   },
   "outputs": [
    {
     "data": {
      "text/html": [
       "<div>\n",
       "<style scoped>\n",
       "    .dataframe tbody tr th:only-of-type {\n",
       "        vertical-align: middle;\n",
       "    }\n",
       "\n",
       "    .dataframe tbody tr th {\n",
       "        vertical-align: top;\n",
       "    }\n",
       "\n",
       "    .dataframe thead th {\n",
       "        text-align: right;\n",
       "    }\n",
       "</style>\n",
       "<table border=\"1\" class=\"dataframe\">\n",
       "  <thead>\n",
       "    <tr style=\"text-align: right;\">\n",
       "      <th></th>\n",
       "      <th>Code zone</th>\n",
       "      <th>Zone</th>\n",
       "      <th>Année</th>\n",
       "      <th>population</th>\n",
       "    </tr>\n",
       "  </thead>\n",
       "  <tbody>\n",
       "    <tr>\n",
       "      <th>302</th>\n",
       "      <td>276</td>\n",
       "      <td>Soudan</td>\n",
       "      <td>2013</td>\n",
       "      <td>37964000</td>\n",
       "    </tr>\n",
       "    <tr>\n",
       "      <th>303</th>\n",
       "      <td>276</td>\n",
       "      <td>Soudan</td>\n",
       "      <td>2003</td>\n",
       "      <td>36643000</td>\n",
       "    </tr>\n",
       "  </tbody>\n",
       "</table>\n",
       "</div>"
      ],
      "text/plain": [
       "     Code zone    Zone  Année  population\n",
       "302        276  Soudan   2013    37964000\n",
       "303        276  Soudan   2003    36643000"
      ]
     },
     "execution_count": 31,
     "metadata": {},
     "output_type": "execute_result"
    }
   ],
   "source": [
    "df_popu[df_popu['Zone']== 'Soudan']"
   ]
  },
  {
   "cell_type": "markdown",
   "metadata": {},
   "source": [
    "#### Pas de données pour les Antilles néerlandaises (ex) en 2013. En effet, en 2010, les Antilles néerlandaises sont devenues des territoires insulaires. Compte tenu de la faible population, je supprime ces données.\t"
   ]
  },
  {
   "cell_type": "code",
   "execution_count": 32,
   "metadata": {},
   "outputs": [],
   "source": [
    "# Suppression des données relatives aux Antilles néerlandaises\n",
    "df_popu = df_popu.drop(index=14, axis=0)"
   ]
  },
  {
   "cell_type": "code",
   "execution_count": 33,
   "metadata": {
    "scrolled": false
   },
   "outputs": [
    {
     "data": {
      "text/html": [
       "<div>\n",
       "<style scoped>\n",
       "    .dataframe tbody tr th:only-of-type {\n",
       "        vertical-align: middle;\n",
       "    }\n",
       "\n",
       "    .dataframe tbody tr th {\n",
       "        vertical-align: top;\n",
       "    }\n",
       "\n",
       "    .dataframe thead th {\n",
       "        text-align: right;\n",
       "    }\n",
       "</style>\n",
       "<table border=\"1\" class=\"dataframe\">\n",
       "  <thead>\n",
       "    <tr style=\"text-align: right;\">\n",
       "      <th>Année</th>\n",
       "      <th>Code zone</th>\n",
       "      <th>Zone</th>\n",
       "      <th>2003</th>\n",
       "      <th>2013</th>\n",
       "    </tr>\n",
       "  </thead>\n",
       "  <tbody>\n",
       "    <tr>\n",
       "      <th>0</th>\n",
       "      <td>1</td>\n",
       "      <td>Arménie</td>\n",
       "      <td>3036000</td>\n",
       "      <td>2977000</td>\n",
       "    </tr>\n",
       "    <tr>\n",
       "      <th>1</th>\n",
       "      <td>2</td>\n",
       "      <td>Afghanistan</td>\n",
       "      <td>23116000</td>\n",
       "      <td>30552000</td>\n",
       "    </tr>\n",
       "  </tbody>\n",
       "</table>\n",
       "</div>"
      ],
      "text/plain": [
       "Année  Code zone         Zone      2003      2013\n",
       "0              1      Arménie   3036000   2977000\n",
       "1              2  Afghanistan  23116000  30552000"
      ]
     },
     "execution_count": 33,
     "metadata": {},
     "output_type": "execute_result"
    }
   ],
   "source": [
    "#  pivot_table sur df_population pour avoir les années en colonnes\n",
    "df_pop = pd.pivot_table(df_popu, values='population', index=['Code zone', 'Zone'],\n",
    "                        columns='Année', aggfunc=sum).reset_index()\n",
    "df_pop.head(2)"
   ]
  },
  {
   "cell_type": "code",
   "execution_count": 34,
   "metadata": {},
   "outputs": [
    {
     "data": {
      "text/plain": [
       "Année\n",
       "Code zone     int64\n",
       "Zone         object\n",
       "2003          int64\n",
       "2013          int64\n",
       "dtype: object"
      ]
     },
     "execution_count": 34,
     "metadata": {},
     "output_type": "execute_result"
    }
   ],
   "source": [
    "df_pop.dtypes"
   ]
  },
  {
   "cell_type": "code",
   "execution_count": 35,
   "metadata": {
    "scrolled": true
   },
   "outputs": [
    {
     "data": {
      "text/plain": [
       "Année\n",
       "Code zone    0\n",
       "Zone         0\n",
       "2003         0\n",
       "2013         0\n",
       "dtype: int64"
      ]
     },
     "execution_count": 35,
     "metadata": {},
     "output_type": "execute_result"
    }
   ],
   "source": [
    "df_pop.isnull().sum()"
   ]
  },
  {
   "cell_type": "code",
   "execution_count": 36,
   "metadata": {},
   "outputs": [],
   "source": [
    "df_popu = df_pop.rename(columns={\"Code zone\" : \"code_pays\", \"Zone\":\"pays\",\n",
    "                                 2003 : \"pop_2003\", 2013 : \"pop_2013\"})"
   ]
  },
  {
   "cell_type": "code",
   "execution_count": 37,
   "metadata": {},
   "outputs": [
    {
     "data": {
      "text/plain": [
       "(174, 4)"
      ]
     },
     "execution_count": 37,
     "metadata": {},
     "output_type": "execute_result"
    }
   ],
   "source": [
    "df_popu.shape"
   ]
  },
  {
   "cell_type": "code",
   "execution_count": 38,
   "metadata": {
    "scrolled": true
   },
   "outputs": [
    {
     "data": {
      "text/html": [
       "<div>\n",
       "<style scoped>\n",
       "    .dataframe tbody tr th:only-of-type {\n",
       "        vertical-align: middle;\n",
       "    }\n",
       "\n",
       "    .dataframe tbody tr th {\n",
       "        vertical-align: top;\n",
       "    }\n",
       "\n",
       "    .dataframe thead th {\n",
       "        text-align: right;\n",
       "    }\n",
       "</style>\n",
       "<table border=\"1\" class=\"dataframe\">\n",
       "  <thead>\n",
       "    <tr style=\"text-align: right;\">\n",
       "      <th>Année</th>\n",
       "      <th>code_pays</th>\n",
       "      <th>pays</th>\n",
       "      <th>pop_2003</th>\n",
       "      <th>pop_2013</th>\n",
       "    </tr>\n",
       "  </thead>\n",
       "  <tbody>\n",
       "    <tr>\n",
       "      <th>0</th>\n",
       "      <td>1</td>\n",
       "      <td>Arménie</td>\n",
       "      <td>3036000</td>\n",
       "      <td>2977000</td>\n",
       "    </tr>\n",
       "    <tr>\n",
       "      <th>1</th>\n",
       "      <td>2</td>\n",
       "      <td>Afghanistan</td>\n",
       "      <td>23116000</td>\n",
       "      <td>30552000</td>\n",
       "    </tr>\n",
       "  </tbody>\n",
       "</table>\n",
       "</div>"
      ],
      "text/plain": [
       "Année  code_pays         pays  pop_2003  pop_2013\n",
       "0              1      Arménie   3036000   2977000\n",
       "1              2  Afghanistan  23116000  30552000"
      ]
     },
     "execution_count": 38,
     "metadata": {},
     "output_type": "execute_result"
    }
   ],
   "source": [
    "df_popu.head(2)"
   ]
  },
  {
   "cell_type": "markdown",
   "metadata": {},
   "source": [
    "#### Test de Student pour voir s'il il y a une différences significative entre les données des 2 années\n",
    "- H0 : les 2 populations ont la même moyenne\n",
    "- H1 : les moyennes sont différentes\n",
    "- seuil de 5%"
   ]
  },
  {
   "cell_type": "code",
   "execution_count": 39,
   "metadata": {},
   "outputs": [
    {
     "data": {
      "text/plain": [
       "(174, 2)"
      ]
     },
     "execution_count": 39,
     "metadata": {},
     "output_type": "execute_result"
    }
   ],
   "source": [
    "pop_ancienne = df_popu.loc[:,['pop_2003', 'pays']] \n",
    "pop_ancienne.shape"
   ]
  },
  {
   "cell_type": "code",
   "execution_count": 40,
   "metadata": {},
   "outputs": [
    {
     "data": {
      "text/plain": [
       "(174, 2)"
      ]
     },
     "execution_count": 40,
     "metadata": {},
     "output_type": "execute_result"
    }
   ],
   "source": [
    "pop_recente = df_popu.loc[:,['pop_2013', 'pays']]\n",
    "pop_recente.shape"
   ]
  },
  {
   "cell_type": "code",
   "execution_count": 41,
   "metadata": {},
   "outputs": [],
   "source": [
    "stat, p =  ttest_ind(pop_ancienne['pop_2003'].dropna(), pop_recente['pop_2013'].dropna(),equal_var=False)"
   ]
  },
  {
   "cell_type": "code",
   "execution_count": 42,
   "metadata": {
    "scrolled": true
   },
   "outputs": [
    {
     "data": {
      "text/plain": [
       "0.7705620488808707"
      ]
     },
     "execution_count": 42,
     "metadata": {},
     "output_type": "execute_result"
    }
   ],
   "source": [
    "p"
   ]
  },
  {
   "cell_type": "markdown",
   "metadata": {},
   "source": [
    "T test \"manuel\""
   ]
  },
  {
   "cell_type": "code",
   "execution_count": 43,
   "metadata": {
    "scrolled": true
   },
   "outputs": [],
   "source": [
    "xa = pop_ancienne['pop_2003'].mean()\n",
    "na = pop_ancienne['pop_2003'].shape[0]\n",
    "# écart type estimé\n",
    "stda = pop_ancienne['pop_2003'].std()"
   ]
  },
  {
   "cell_type": "code",
   "execution_count": 44,
   "metadata": {},
   "outputs": [],
   "source": [
    "xb = pop_recente['pop_2013'].mean()\n",
    "nb = pop_recente['pop_2013'].shape[0]\n",
    "stdb = pop_recente['pop_2013'].std()"
   ]
  },
  {
   "cell_type": "code",
   "execution_count": 45,
   "metadata": {},
   "outputs": [
    {
     "data": {
      "text/plain": [
       "0.29187057409588996"
      ]
     },
     "execution_count": 45,
     "metadata": {},
     "output_type": "execute_result"
    }
   ],
   "source": [
    "# T Test => voir table T Test => ddl grd => 1.96 => pas significatif\n",
    "(xb - xa)/(np.sqrt(stda**2 / na + stdb**2 / nb))"
   ]
  },
  {
   "cell_type": "code",
   "execution_count": 46,
   "metadata": {
    "scrolled": true
   },
   "outputs": [
    {
     "data": {
      "text/plain": [
       "29254030.976952523"
      ]
     },
     "execution_count": 46,
     "metadata": {},
     "output_type": "execute_result"
    }
   ],
   "source": [
    "# 1.96 intervalle de confiance\n",
    "1.96 * (np.sqrt(stda**2 / na + stdb**2 / nb))"
   ]
  },
  {
   "cell_type": "code",
   "execution_count": 47,
   "metadata": {
    "scrolled": true
   },
   "outputs": [
    {
     "data": {
      "text/plain": [
       "14925526.008649247"
      ]
     },
     "execution_count": 47,
     "metadata": {},
     "output_type": "execute_result"
    }
   ],
   "source": [
    "(np.sqrt(stda**2 / na + stdb**2 / nb))"
   ]
  },
  {
   "cell_type": "code",
   "execution_count": 48,
   "metadata": {
    "scrolled": true
   },
   "outputs": [
    {
     "data": {
      "text/plain": [
       "4356321.844827592"
      ]
     },
     "execution_count": 48,
     "metadata": {},
     "output_type": "execute_result"
    }
   ],
   "source": [
    "xb - xa"
   ]
  },
  {
   "cell_type": "markdown",
   "metadata": {},
   "source": [
    "#### Calcul de la différence de population entre 2003 et 2013, exprimée en pourcentage"
   ]
  },
  {
   "cell_type": "code",
   "execution_count": 49,
   "metadata": {},
   "outputs": [],
   "source": [
    "# Création d'une colonne contenant la différence de population entre 2003 et 2013 exprimée en pourcentage\n",
    "df_popu['diff_pop_pourcent'] = (df_popu.pop_2013 - df_popu.pop_2003)* 100 / df_popu.pop_2003                         "
   ]
  },
  {
   "cell_type": "code",
   "execution_count": 50,
   "metadata": {
    "scrolled": true
   },
   "outputs": [
    {
     "data": {
      "text/html": [
       "<div>\n",
       "<style scoped>\n",
       "    .dataframe tbody tr th:only-of-type {\n",
       "        vertical-align: middle;\n",
       "    }\n",
       "\n",
       "    .dataframe tbody tr th {\n",
       "        vertical-align: top;\n",
       "    }\n",
       "\n",
       "    .dataframe thead th {\n",
       "        text-align: right;\n",
       "    }\n",
       "</style>\n",
       "<table border=\"1\" class=\"dataframe\">\n",
       "  <thead>\n",
       "    <tr style=\"text-align: right;\">\n",
       "      <th>Année</th>\n",
       "      <th>code_pays</th>\n",
       "      <th>pays</th>\n",
       "      <th>pop_2003</th>\n",
       "      <th>pop_2013</th>\n",
       "      <th>diff_pop_pourcent</th>\n",
       "    </tr>\n",
       "  </thead>\n",
       "  <tbody>\n",
       "    <tr>\n",
       "      <th>0</th>\n",
       "      <td>1</td>\n",
       "      <td>Arménie</td>\n",
       "      <td>3036000</td>\n",
       "      <td>2977000</td>\n",
       "      <td>-1.943347</td>\n",
       "    </tr>\n",
       "    <tr>\n",
       "      <th>1</th>\n",
       "      <td>2</td>\n",
       "      <td>Afghanistan</td>\n",
       "      <td>23116000</td>\n",
       "      <td>30552000</td>\n",
       "      <td>32.168195</td>\n",
       "    </tr>\n",
       "  </tbody>\n",
       "</table>\n",
       "</div>"
      ],
      "text/plain": [
       "Année  code_pays         pays  pop_2003  pop_2013  diff_pop_pourcent\n",
       "0              1      Arménie   3036000   2977000          -1.943347\n",
       "1              2  Afghanistan  23116000  30552000          32.168195"
      ]
     },
     "execution_count": 50,
     "metadata": {},
     "output_type": "execute_result"
    }
   ],
   "source": [
    "df_popu.head(2)"
   ]
  },
  {
   "cell_type": "code",
   "execution_count": 51,
   "metadata": {
    "scrolled": true
   },
   "outputs": [
    {
     "data": {
      "text/html": [
       "<div>\n",
       "<style scoped>\n",
       "    .dataframe tbody tr th:only-of-type {\n",
       "        vertical-align: middle;\n",
       "    }\n",
       "\n",
       "    .dataframe tbody tr th {\n",
       "        vertical-align: top;\n",
       "    }\n",
       "\n",
       "    .dataframe thead th {\n",
       "        text-align: right;\n",
       "    }\n",
       "</style>\n",
       "<table border=\"1\" class=\"dataframe\">\n",
       "  <thead>\n",
       "    <tr style=\"text-align: right;\">\n",
       "      <th>Année</th>\n",
       "      <th>code_pays</th>\n",
       "      <th>pays</th>\n",
       "      <th>diff_pop_pourcent</th>\n",
       "    </tr>\n",
       "  </thead>\n",
       "  <tbody>\n",
       "    <tr>\n",
       "      <th>0</th>\n",
       "      <td>1</td>\n",
       "      <td>Arménie</td>\n",
       "      <td>-1.943347</td>\n",
       "    </tr>\n",
       "    <tr>\n",
       "      <th>1</th>\n",
       "      <td>2</td>\n",
       "      <td>Afghanistan</td>\n",
       "      <td>32.168195</td>\n",
       "    </tr>\n",
       "  </tbody>\n",
       "</table>\n",
       "</div>"
      ],
      "text/plain": [
       "Année  code_pays         pays  diff_pop_pourcent\n",
       "0              1      Arménie          -1.943347\n",
       "1              2  Afghanistan          32.168195"
      ]
     },
     "execution_count": 51,
     "metadata": {},
     "output_type": "execute_result"
    }
   ],
   "source": [
    "# Récupération des colonnes intéressantes\n",
    "df_population = df_popu.loc[:, [\"code_pays\", \"pays\", \"diff_pop_pourcent\"]]\n",
    "df_population.head(2)"
   ]
  },
  {
   "cell_type": "markdown",
   "metadata": {},
   "source": [
    "### Calcul de la quantité totale de protéines dans la disponibilité alimentaire du pays "
   ]
  },
  {
   "cell_type": "markdown",
   "metadata": {},
   "source": [
    "### Fichier des données disponibilité alimentaire en 2013"
   ]
  },
  {
   "cell_type": "code",
   "execution_count": 52,
   "metadata": {},
   "outputs": [],
   "source": [
    "# Récupération des colonnes intéressantes\n",
    "df_dispo = df_dispo_fao.loc[:, ['Code zone', 'Zone', 'Élément', 'Valeur']]"
   ]
  },
  {
   "cell_type": "code",
   "execution_count": 53,
   "metadata": {},
   "outputs": [],
   "source": [
    "# Suppression de la Chine dans df_population car doublon avec les terrictoires indépendants\n",
    "df_pop.drop(df_pop[df_pop['Code zone'] == 351].index, inplace=True)"
   ]
  },
  {
   "cell_type": "code",
   "execution_count": 54,
   "metadata": {},
   "outputs": [
    {
     "data": {
      "text/plain": [
       "(25974, 4)"
      ]
     },
     "execution_count": 54,
     "metadata": {},
     "output_type": "execute_result"
    }
   ],
   "source": [
    "df_dispo.shape"
   ]
  },
  {
   "cell_type": "code",
   "execution_count": 55,
   "metadata": {
    "scrolled": true
   },
   "outputs": [
    {
     "data": {
      "text/html": [
       "<div>\n",
       "<style scoped>\n",
       "    .dataframe tbody tr th:only-of-type {\n",
       "        vertical-align: middle;\n",
       "    }\n",
       "\n",
       "    .dataframe tbody tr th {\n",
       "        vertical-align: top;\n",
       "    }\n",
       "\n",
       "    .dataframe thead th {\n",
       "        text-align: right;\n",
       "    }\n",
       "</style>\n",
       "<table border=\"1\" class=\"dataframe\">\n",
       "  <thead>\n",
       "    <tr style=\"text-align: right;\">\n",
       "      <th></th>\n",
       "      <th>Code zone</th>\n",
       "      <th>Zone</th>\n",
       "      <th>Élément</th>\n",
       "      <th>Valeur</th>\n",
       "    </tr>\n",
       "  </thead>\n",
       "  <tbody>\n",
       "    <tr>\n",
       "      <th>0</th>\n",
       "      <td>2</td>\n",
       "      <td>Afghanistan</td>\n",
       "      <td>Disponibilité alimentaire (Kcal/personne/jour)</td>\n",
       "      <td>1369.00</td>\n",
       "    </tr>\n",
       "    <tr>\n",
       "      <th>1</th>\n",
       "      <td>2</td>\n",
       "      <td>Afghanistan</td>\n",
       "      <td>Disponibilité de protéines en quantité (g/pers...</td>\n",
       "      <td>36.91</td>\n",
       "    </tr>\n",
       "  </tbody>\n",
       "</table>\n",
       "</div>"
      ],
      "text/plain": [
       "   Code zone         Zone                                            Élément  \\\n",
       "0          2  Afghanistan     Disponibilité alimentaire (Kcal/personne/jour)   \n",
       "1          2  Afghanistan  Disponibilité de protéines en quantité (g/pers...   \n",
       "\n",
       "    Valeur  \n",
       "0  1369.00  \n",
       "1    36.91  "
      ]
     },
     "execution_count": 55,
     "metadata": {},
     "output_type": "execute_result"
    }
   ],
   "source": [
    "df_dispo.head(2)"
   ]
  },
  {
   "cell_type": "markdown",
   "metadata": {},
   "source": [
    "#### Nettoyage de données"
   ]
  },
  {
   "cell_type": "code",
   "execution_count": 56,
   "metadata": {},
   "outputs": [
    {
     "data": {
      "text/plain": [
       "Code zone      int64\n",
       "Zone          object\n",
       "Élément       object\n",
       "Valeur       float64\n",
       "dtype: object"
      ]
     },
     "execution_count": 56,
     "metadata": {},
     "output_type": "execute_result"
    }
   ],
   "source": [
    "df_dispo.dtypes"
   ]
  },
  {
   "cell_type": "code",
   "execution_count": 57,
   "metadata": {
    "scrolled": true
   },
   "outputs": [
    {
     "data": {
      "text/plain": [
       "Code zone    0\n",
       "Zone         0\n",
       "Élément      0\n",
       "Valeur       0\n",
       "dtype: int64"
      ]
     },
     "execution_count": 57,
     "metadata": {},
     "output_type": "execute_result"
    }
   ],
   "source": [
    "# Recherche des valeurs null\n",
    "df_dispo.isnull().sum()"
   ]
  },
  {
   "cell_type": "code",
   "execution_count": 58,
   "metadata": {
    "scrolled": true
   },
   "outputs": [
    {
     "data": {
      "text/plain": [
       "13371"
      ]
     },
     "execution_count": 58,
     "metadata": {},
     "output_type": "execute_result"
    }
   ],
   "source": [
    "# Recherche de doublons\n",
    "df_dispo.duplicated().sum()"
   ]
  },
  {
   "cell_type": "markdown",
   "metadata": {},
   "source": [
    "#### Calcul des disponibilités totales des pays par habitant (kcal et g de protéïne)"
   ]
  },
  {
   "cell_type": "code",
   "execution_count": 59,
   "metadata": {},
   "outputs": [],
   "source": [
    "# pivot_table pour avoir les disponibilités en colonne\n",
    "df_dispoPv = pd.pivot_table(df_dispo, values='Valeur', index=['Code zone', 'Zone'],\n",
    "                           columns='Élément', aggfunc=sum)"
   ]
  },
  {
   "cell_type": "code",
   "execution_count": 60,
   "metadata": {},
   "outputs": [],
   "source": [
    "df_dispoPv = df_dispoPv.reset_index()"
   ]
  },
  {
   "cell_type": "code",
   "execution_count": 61,
   "metadata": {
    "scrolled": true
   },
   "outputs": [
    {
     "data": {
      "text/html": [
       "<div>\n",
       "<style scoped>\n",
       "    .dataframe tbody tr th:only-of-type {\n",
       "        vertical-align: middle;\n",
       "    }\n",
       "\n",
       "    .dataframe tbody tr th {\n",
       "        vertical-align: top;\n",
       "    }\n",
       "\n",
       "    .dataframe thead th {\n",
       "        text-align: right;\n",
       "    }\n",
       "</style>\n",
       "<table border=\"1\" class=\"dataframe\">\n",
       "  <thead>\n",
       "    <tr style=\"text-align: right;\">\n",
       "      <th>Élément</th>\n",
       "      <th>Code zone</th>\n",
       "      <th>Zone</th>\n",
       "      <th>Disponibilité alimentaire (Kcal/personne/jour)</th>\n",
       "      <th>Disponibilité de protéines en quantité (g/personne/jour)</th>\n",
       "    </tr>\n",
       "  </thead>\n",
       "  <tbody>\n",
       "    <tr>\n",
       "      <th>0</th>\n",
       "      <td>1</td>\n",
       "      <td>Arménie</td>\n",
       "      <td>2924.0</td>\n",
       "      <td>90.06</td>\n",
       "    </tr>\n",
       "    <tr>\n",
       "      <th>1</th>\n",
       "      <td>2</td>\n",
       "      <td>Afghanistan</td>\n",
       "      <td>2087.0</td>\n",
       "      <td>58.26</td>\n",
       "    </tr>\n",
       "  </tbody>\n",
       "</table>\n",
       "</div>"
      ],
      "text/plain": [
       "Élément  Code zone         Zone  \\\n",
       "0                1      Arménie   \n",
       "1                2  Afghanistan   \n",
       "\n",
       "Élément  Disponibilité alimentaire (Kcal/personne/jour)  \\\n",
       "0                                                2924.0   \n",
       "1                                                2087.0   \n",
       "\n",
       "Élément  Disponibilité de protéines en quantité (g/personne/jour)  \n",
       "0                                                    90.06         \n",
       "1                                                    58.26         "
      ]
     },
     "execution_count": 61,
     "metadata": {},
     "output_type": "execute_result"
    }
   ],
   "source": [
    "df_dispoPv.head(2)"
   ]
  },
  {
   "cell_type": "code",
   "execution_count": 62,
   "metadata": {
    "scrolled": true
   },
   "outputs": [
    {
     "data": {
      "text/plain": [
       "Élément\n",
       "Code zone                                                   0\n",
       "Zone                                                        0\n",
       "Disponibilité alimentaire (Kcal/personne/jour)              0\n",
       "Disponibilité de protéines en quantité (g/personne/jour)    0\n",
       "dtype: int64"
      ]
     },
     "execution_count": 62,
     "metadata": {},
     "output_type": "execute_result"
    }
   ],
   "source": [
    "df_dispoPv.isnull().sum()"
   ]
  },
  {
   "cell_type": "markdown",
   "metadata": {},
   "source": [
    "- Nommage des colonnes"
   ]
  },
  {
   "cell_type": "code",
   "execution_count": 63,
   "metadata": {},
   "outputs": [],
   "source": [
    "# Nommage des colonnes\n",
    "df_dispoPays = df_dispoPv.rename(columns={\"Code zone\" : \"code_pays\", \"Zone\":\"pays\",\n",
    "                                 'Disponibilité alimentaire (Kcal/personne/jour)' : 'dispo_alim_T_kcal_hab_jr',\n",
    "                                          'Disponibilité de protéines en quantité (g/personne/jour)' : 'dispo_proteine_T_g_hab_jr'})"
   ]
  },
  {
   "cell_type": "code",
   "execution_count": 64,
   "metadata": {},
   "outputs": [],
   "source": [
    "df_dispoPays = df_dispoPays.reset_index()"
   ]
  },
  {
   "cell_type": "code",
   "execution_count": 65,
   "metadata": {
    "scrolled": false
   },
   "outputs": [
    {
     "data": {
      "text/html": [
       "<div>\n",
       "<style scoped>\n",
       "    .dataframe tbody tr th:only-of-type {\n",
       "        vertical-align: middle;\n",
       "    }\n",
       "\n",
       "    .dataframe tbody tr th {\n",
       "        vertical-align: top;\n",
       "    }\n",
       "\n",
       "    .dataframe thead th {\n",
       "        text-align: right;\n",
       "    }\n",
       "</style>\n",
       "<table border=\"1\" class=\"dataframe\">\n",
       "  <thead>\n",
       "    <tr style=\"text-align: right;\">\n",
       "      <th>Élément</th>\n",
       "      <th>index</th>\n",
       "      <th>code_pays</th>\n",
       "      <th>pays</th>\n",
       "      <th>dispo_alim_T_kcal_hab_jr</th>\n",
       "      <th>dispo_proteine_T_g_hab_jr</th>\n",
       "    </tr>\n",
       "  </thead>\n",
       "  <tbody>\n",
       "    <tr>\n",
       "      <th>0</th>\n",
       "      <td>0</td>\n",
       "      <td>1</td>\n",
       "      <td>Arménie</td>\n",
       "      <td>2924.0</td>\n",
       "      <td>90.06</td>\n",
       "    </tr>\n",
       "    <tr>\n",
       "      <th>1</th>\n",
       "      <td>1</td>\n",
       "      <td>2</td>\n",
       "      <td>Afghanistan</td>\n",
       "      <td>2087.0</td>\n",
       "      <td>58.26</td>\n",
       "    </tr>\n",
       "  </tbody>\n",
       "</table>\n",
       "</div>"
      ],
      "text/plain": [
       "Élément  index  code_pays         pays  dispo_alim_T_kcal_hab_jr  \\\n",
       "0            0          1      Arménie                    2924.0   \n",
       "1            1          2  Afghanistan                    2087.0   \n",
       "\n",
       "Élément  dispo_proteine_T_g_hab_jr  \n",
       "0                            90.06  \n",
       "1                            58.26  "
      ]
     },
     "execution_count": 65,
     "metadata": {},
     "output_type": "execute_result"
    }
   ],
   "source": [
    "df_dispoPays.head(2)"
   ]
  },
  {
   "cell_type": "code",
   "execution_count": 66,
   "metadata": {},
   "outputs": [
    {
     "data": {
      "text/plain": [
       "(175, 5)"
      ]
     },
     "execution_count": 66,
     "metadata": {},
     "output_type": "execute_result"
    }
   ],
   "source": [
    "df_dispoPays.shape"
   ]
  },
  {
   "cell_type": "markdown",
   "metadata": {},
   "source": [
    "### Proportion de protéines d'origine animale"
   ]
  },
  {
   "cell_type": "markdown",
   "metadata": {},
   "source": [
    "### Fichier disponibilité alimentaire animale"
   ]
  },
  {
   "cell_type": "code",
   "execution_count": 67,
   "metadata": {},
   "outputs": [
    {
     "data": {
      "text/html": [
       "<div>\n",
       "<style scoped>\n",
       "    .dataframe tbody tr th:only-of-type {\n",
       "        vertical-align: middle;\n",
       "    }\n",
       "\n",
       "    .dataframe tbody tr th {\n",
       "        vertical-align: top;\n",
       "    }\n",
       "\n",
       "    .dataframe thead th {\n",
       "        text-align: right;\n",
       "    }\n",
       "</style>\n",
       "<table border=\"1\" class=\"dataframe\">\n",
       "  <thead>\n",
       "    <tr style=\"text-align: right;\">\n",
       "      <th></th>\n",
       "      <th>Code zone</th>\n",
       "      <th>Zone</th>\n",
       "      <th>Élément</th>\n",
       "      <th>Valeur</th>\n",
       "    </tr>\n",
       "  </thead>\n",
       "  <tbody>\n",
       "    <tr>\n",
       "      <th>0</th>\n",
       "      <td>2</td>\n",
       "      <td>Afghanistan</td>\n",
       "      <td>Disponibilité alimentaire (Kcal/personne/jour)</td>\n",
       "      <td>27.00</td>\n",
       "    </tr>\n",
       "    <tr>\n",
       "      <th>1</th>\n",
       "      <td>2</td>\n",
       "      <td>Afghanistan</td>\n",
       "      <td>Disponibilité de protéines en quantité (g/pers...</td>\n",
       "      <td>1.89</td>\n",
       "    </tr>\n",
       "    <tr>\n",
       "      <th>2</th>\n",
       "      <td>2</td>\n",
       "      <td>Afghanistan</td>\n",
       "      <td>Disponibilité alimentaire (Kcal/personne/jour)</td>\n",
       "      <td>31.00</td>\n",
       "    </tr>\n",
       "    <tr>\n",
       "      <th>3</th>\n",
       "      <td>2</td>\n",
       "      <td>Afghanistan</td>\n",
       "      <td>Disponibilité de protéines en quantité (g/pers...</td>\n",
       "      <td>1.91</td>\n",
       "    </tr>\n",
       "    <tr>\n",
       "      <th>4</th>\n",
       "      <td>2</td>\n",
       "      <td>Afghanistan</td>\n",
       "      <td>Disponibilité alimentaire (Kcal/personne/jour)</td>\n",
       "      <td>9.00</td>\n",
       "    </tr>\n",
       "    <tr>\n",
       "      <th>...</th>\n",
       "      <td>...</td>\n",
       "      <td>...</td>\n",
       "      <td>...</td>\n",
       "      <td>...</td>\n",
       "    </tr>\n",
       "    <tr>\n",
       "      <th>7418</th>\n",
       "      <td>181</td>\n",
       "      <td>Zimbabwe</td>\n",
       "      <td>Disponibilité de protéines en quantité (g/pers...</td>\n",
       "      <td>0.00</td>\n",
       "    </tr>\n",
       "    <tr>\n",
       "      <th>7419</th>\n",
       "      <td>181</td>\n",
       "      <td>Zimbabwe</td>\n",
       "      <td>Disponibilité alimentaire (Kcal/personne/jour)</td>\n",
       "      <td>0.00</td>\n",
       "    </tr>\n",
       "    <tr>\n",
       "      <th>7420</th>\n",
       "      <td>181</td>\n",
       "      <td>Zimbabwe</td>\n",
       "      <td>Disponibilité de protéines en quantité (g/pers...</td>\n",
       "      <td>0.00</td>\n",
       "    </tr>\n",
       "    <tr>\n",
       "      <th>7421</th>\n",
       "      <td>181</td>\n",
       "      <td>Zimbabwe</td>\n",
       "      <td>Disponibilité alimentaire (Kcal/personne/jour)</td>\n",
       "      <td>0.00</td>\n",
       "    </tr>\n",
       "    <tr>\n",
       "      <th>7422</th>\n",
       "      <td>181</td>\n",
       "      <td>Zimbabwe</td>\n",
       "      <td>Disponibilité de protéines en quantité (g/pers...</td>\n",
       "      <td>0.00</td>\n",
       "    </tr>\n",
       "  </tbody>\n",
       "</table>\n",
       "<p>7423 rows × 4 columns</p>\n",
       "</div>"
      ],
      "text/plain": [
       "      Code zone         Zone  \\\n",
       "0             2  Afghanistan   \n",
       "1             2  Afghanistan   \n",
       "2             2  Afghanistan   \n",
       "3             2  Afghanistan   \n",
       "4             2  Afghanistan   \n",
       "...         ...          ...   \n",
       "7418        181     Zimbabwe   \n",
       "7419        181     Zimbabwe   \n",
       "7420        181     Zimbabwe   \n",
       "7421        181     Zimbabwe   \n",
       "7422        181     Zimbabwe   \n",
       "\n",
       "                                                Élément  Valeur  \n",
       "0        Disponibilité alimentaire (Kcal/personne/jour)   27.00  \n",
       "1     Disponibilité de protéines en quantité (g/pers...    1.89  \n",
       "2        Disponibilité alimentaire (Kcal/personne/jour)   31.00  \n",
       "3     Disponibilité de protéines en quantité (g/pers...    1.91  \n",
       "4        Disponibilité alimentaire (Kcal/personne/jour)    9.00  \n",
       "...                                                 ...     ...  \n",
       "7418  Disponibilité de protéines en quantité (g/pers...    0.00  \n",
       "7419     Disponibilité alimentaire (Kcal/personne/jour)    0.00  \n",
       "7420  Disponibilité de protéines en quantité (g/pers...    0.00  \n",
       "7421     Disponibilité alimentaire (Kcal/personne/jour)    0.00  \n",
       "7422  Disponibilité de protéines en quantité (g/pers...    0.00  \n",
       "\n",
       "[7423 rows x 4 columns]"
      ]
     },
     "execution_count": 67,
     "metadata": {},
     "output_type": "execute_result"
    }
   ],
   "source": [
    "# Récupération des colonnes intéressantes\n",
    "df_dispoAni = df_dispoAni_fao.loc[:, ['Code zone', 'Zone', 'Élément', 'Valeur']]\n",
    "df_dispoAni"
   ]
  },
  {
   "cell_type": "markdown",
   "metadata": {},
   "source": [
    "#### Nettoyage des données"
   ]
  },
  {
   "cell_type": "code",
   "execution_count": 68,
   "metadata": {},
   "outputs": [],
   "source": [
    "# Suppression de la Chine dans df_population car doublon avec les terrictoires indépendants\n",
    "df_dispoAni.drop(df_dispoAni[df_dispoAni['Code zone'] == 351].index, inplace=True)"
   ]
  },
  {
   "cell_type": "code",
   "execution_count": 69,
   "metadata": {
    "scrolled": true
   },
   "outputs": [
    {
     "data": {
      "text/plain": [
       "(7379, 4)"
      ]
     },
     "execution_count": 69,
     "metadata": {},
     "output_type": "execute_result"
    }
   ],
   "source": [
    "df_dispoAni.shape"
   ]
  },
  {
   "cell_type": "code",
   "execution_count": 70,
   "metadata": {},
   "outputs": [
    {
     "data": {
      "text/plain": [
       "Code zone      int64\n",
       "Zone          object\n",
       "Élément       object\n",
       "Valeur       float64\n",
       "dtype: object"
      ]
     },
     "execution_count": 70,
     "metadata": {},
     "output_type": "execute_result"
    }
   ],
   "source": [
    "df_dispoAni.dtypes"
   ]
  },
  {
   "cell_type": "code",
   "execution_count": 71,
   "metadata": {
    "scrolled": true
   },
   "outputs": [
    {
     "data": {
      "text/plain": [
       "Code zone    0\n",
       "Zone         0\n",
       "Élément      0\n",
       "Valeur       0\n",
       "dtype: int64"
      ]
     },
     "execution_count": 71,
     "metadata": {},
     "output_type": "execute_result"
    }
   ],
   "source": [
    "# Recherche des valeurs null\n",
    "df_dispoAni.isnull().sum()"
   ]
  },
  {
   "cell_type": "code",
   "execution_count": 72,
   "metadata": {},
   "outputs": [
    {
     "data": {
      "text/plain": [
       "2447"
      ]
     },
     "execution_count": 72,
     "metadata": {},
     "output_type": "execute_result"
    }
   ],
   "source": [
    "# Recherche de doublons\n",
    "df_dispoAni.duplicated().sum()"
   ]
  },
  {
   "cell_type": "markdown",
   "metadata": {},
   "source": [
    "#### Calcul des disponibilités alimentaires animales"
   ]
  },
  {
   "cell_type": "code",
   "execution_count": 73,
   "metadata": {},
   "outputs": [],
   "source": [
    "# pivot_table pour avoir les disponibilités en colonne\n",
    "df_dispoAniPv = pd.pivot_table(df_dispoAni, values='Valeur', index=['Code zone', 'Zone'],\n",
    "                           columns='Élément', aggfunc=sum)"
   ]
  },
  {
   "cell_type": "code",
   "execution_count": 74,
   "metadata": {
    "scrolled": false
   },
   "outputs": [
    {
     "data": {
      "text/html": [
       "<div>\n",
       "<style scoped>\n",
       "    .dataframe tbody tr th:only-of-type {\n",
       "        vertical-align: middle;\n",
       "    }\n",
       "\n",
       "    .dataframe tbody tr th {\n",
       "        vertical-align: top;\n",
       "    }\n",
       "\n",
       "    .dataframe thead th {\n",
       "        text-align: right;\n",
       "    }\n",
       "</style>\n",
       "<table border=\"1\" class=\"dataframe\">\n",
       "  <thead>\n",
       "    <tr style=\"text-align: right;\">\n",
       "      <th></th>\n",
       "      <th>Élément</th>\n",
       "      <th>Disponibilité alimentaire (Kcal/personne/jour)</th>\n",
       "      <th>Disponibilité de protéines en quantité (g/personne/jour)</th>\n",
       "    </tr>\n",
       "    <tr>\n",
       "      <th>Code zone</th>\n",
       "      <th>Zone</th>\n",
       "      <th></th>\n",
       "      <th></th>\n",
       "    </tr>\n",
       "  </thead>\n",
       "  <tbody>\n",
       "    <tr>\n",
       "      <th>1</th>\n",
       "      <th>Arménie</th>\n",
       "      <td>784.0</td>\n",
       "      <td>43.24</td>\n",
       "    </tr>\n",
       "    <tr>\n",
       "      <th>2</th>\n",
       "      <th>Afghanistan</th>\n",
       "      <td>216.0</td>\n",
       "      <td>12.21</td>\n",
       "    </tr>\n",
       "  </tbody>\n",
       "</table>\n",
       "</div>"
      ],
      "text/plain": [
       "Élément                Disponibilité alimentaire (Kcal/personne/jour)  \\\n",
       "Code zone Zone                                                          \n",
       "1         Arménie                                               784.0   \n",
       "2         Afghanistan                                           216.0   \n",
       "\n",
       "Élément                Disponibilité de protéines en quantité (g/personne/jour)  \n",
       "Code zone Zone                                                                   \n",
       "1         Arménie                                                  43.24         \n",
       "2         Afghanistan                                              12.21         "
      ]
     },
     "execution_count": 74,
     "metadata": {},
     "output_type": "execute_result"
    }
   ],
   "source": [
    "df_dispoAniPv.head(2)"
   ]
  },
  {
   "cell_type": "code",
   "execution_count": 75,
   "metadata": {},
   "outputs": [],
   "source": [
    "df_dispoAniPv = df_dispoAniPv.reset_index()"
   ]
  },
  {
   "cell_type": "code",
   "execution_count": 76,
   "metadata": {},
   "outputs": [
    {
     "data": {
      "text/plain": [
       "Élément\n",
       "Code zone                                                   0\n",
       "Zone                                                        0\n",
       "Disponibilité alimentaire (Kcal/personne/jour)              0\n",
       "Disponibilité de protéines en quantité (g/personne/jour)    0\n",
       "dtype: int64"
      ]
     },
     "execution_count": 76,
     "metadata": {},
     "output_type": "execute_result"
    }
   ],
   "source": [
    "df_dispoAniPv.isnull().sum()"
   ]
  },
  {
   "cell_type": "code",
   "execution_count": 77,
   "metadata": {},
   "outputs": [],
   "source": [
    "# Nommage des colonnes\n",
    "df_dispoAni = df_dispoAniPv.rename(columns={\"Code zone\" : \"code_pays\", \"Zone\":\"pays\",\n",
    "                                 'Disponibilité alimentaire (Kcal/personne/jour)' : 'dispo_ani_kcal_hab_jr',\n",
    "                                          'Disponibilité de protéines en quantité (g/personne/jour)' : 'dispo_proteine_ani_g_hab_jr'})"
   ]
  },
  {
   "cell_type": "code",
   "execution_count": 78,
   "metadata": {
    "scrolled": true
   },
   "outputs": [
    {
     "data": {
      "text/plain": [
       "(174, 4)"
      ]
     },
     "execution_count": 78,
     "metadata": {},
     "output_type": "execute_result"
    }
   ],
   "source": [
    "df_dispoAni.shape"
   ]
  },
  {
   "cell_type": "markdown",
   "metadata": {},
   "source": [
    "#### Proportion de protéines d'origine animale par rapport à la quantité totale de protéines dans la disponibilité alimentaire du pays"
   ]
  },
  {
   "cell_type": "code",
   "execution_count": 79,
   "metadata": {},
   "outputs": [],
   "source": [
    "# Jointure de df_dispoPays avec df_dispoAni sur le nom du pays\n",
    "df_sample_pays = pd.merge(df_dispoPays, df_dispoAni)"
   ]
  },
  {
   "cell_type": "code",
   "execution_count": 80,
   "metadata": {
    "scrolled": true
   },
   "outputs": [
    {
     "data": {
      "text/plain": [
       "Index(['index', 'code_pays', 'pays', 'dispo_alim_T_kcal_hab_jr',\n",
       "       'dispo_proteine_T_g_hab_jr', 'dispo_ani_kcal_hab_jr',\n",
       "       'dispo_proteine_ani_g_hab_jr'],\n",
       "      dtype='object', name='Élément')"
      ]
     },
     "execution_count": 80,
     "metadata": {},
     "output_type": "execute_result"
    }
   ],
   "source": [
    "df_sample_pays.columns"
   ]
  },
  {
   "cell_type": "code",
   "execution_count": 81,
   "metadata": {},
   "outputs": [],
   "source": [
    "df_regime_alim_pays = df_sample_pays.loc[:,['code_pays', 'pays', 'dispo_alim_T_kcal_hab_jr',\n",
    "       'dispo_proteine_T_g_hab_jr',       \n",
    "       'dispo_proteine_ani_g_hab_jr']]"
   ]
  },
  {
   "cell_type": "markdown",
   "metadata": {},
   "source": [
    "#### Création d'une colonne proportion de protéines d'origine animale par rapport à la quantité totale de protéines dans la disponibilité alimentaire du pays "
   ]
  },
  {
   "cell_type": "code",
   "execution_count": 82,
   "metadata": {},
   "outputs": [],
   "source": [
    "df_regime_alim_pays['ratio_prot_ani_dispo_proteine_T'] = df_regime_alim_pays['dispo_proteine_ani_g_hab_jr'] / df_regime_alim_pays['dispo_proteine_T_g_hab_jr']"
   ]
  },
  {
   "cell_type": "code",
   "execution_count": 83,
   "metadata": {},
   "outputs": [
    {
     "data": {
      "text/plain": [
       "Élément\n",
       "code_pays                          0\n",
       "pays                               0\n",
       "dispo_alim_T_kcal_hab_jr           0\n",
       "dispo_proteine_T_g_hab_jr          0\n",
       "dispo_proteine_ani_g_hab_jr        0\n",
       "ratio_prot_ani_dispo_proteine_T    0\n",
       "dtype: int64"
      ]
     },
     "execution_count": 83,
     "metadata": {},
     "output_type": "execute_result"
    }
   ],
   "source": [
    "df_regime_alim_pays.isnull().sum()"
   ]
  },
  {
   "cell_type": "code",
   "execution_count": 84,
   "metadata": {
    "scrolled": false
   },
   "outputs": [
    {
     "data": {
      "text/html": [
       "<div>\n",
       "<style scoped>\n",
       "    .dataframe tbody tr th:only-of-type {\n",
       "        vertical-align: middle;\n",
       "    }\n",
       "\n",
       "    .dataframe tbody tr th {\n",
       "        vertical-align: top;\n",
       "    }\n",
       "\n",
       "    .dataframe thead th {\n",
       "        text-align: right;\n",
       "    }\n",
       "</style>\n",
       "<table border=\"1\" class=\"dataframe\">\n",
       "  <thead>\n",
       "    <tr style=\"text-align: right;\">\n",
       "      <th>Élément</th>\n",
       "      <th>code_pays</th>\n",
       "      <th>pays</th>\n",
       "      <th>dispo_alim_T_kcal_hab_jr</th>\n",
       "      <th>dispo_proteine_T_g_hab_jr</th>\n",
       "      <th>dispo_proteine_ani_g_hab_jr</th>\n",
       "      <th>ratio_prot_ani_dispo_proteine_T</th>\n",
       "    </tr>\n",
       "  </thead>\n",
       "  <tbody>\n",
       "    <tr>\n",
       "      <th>0</th>\n",
       "      <td>1</td>\n",
       "      <td>Arménie</td>\n",
       "      <td>2924.0</td>\n",
       "      <td>90.06</td>\n",
       "      <td>43.24</td>\n",
       "      <td>0.480124</td>\n",
       "    </tr>\n",
       "    <tr>\n",
       "      <th>1</th>\n",
       "      <td>2</td>\n",
       "      <td>Afghanistan</td>\n",
       "      <td>2087.0</td>\n",
       "      <td>58.26</td>\n",
       "      <td>12.21</td>\n",
       "      <td>0.209578</td>\n",
       "    </tr>\n",
       "    <tr>\n",
       "      <th>2</th>\n",
       "      <td>3</td>\n",
       "      <td>Albanie</td>\n",
       "      <td>3188.0</td>\n",
       "      <td>111.37</td>\n",
       "      <td>59.41</td>\n",
       "      <td>0.533447</td>\n",
       "    </tr>\n",
       "  </tbody>\n",
       "</table>\n",
       "</div>"
      ],
      "text/plain": [
       "Élément  code_pays         pays  dispo_alim_T_kcal_hab_jr  \\\n",
       "0                1      Arménie                    2924.0   \n",
       "1                2  Afghanistan                    2087.0   \n",
       "2                3      Albanie                    3188.0   \n",
       "\n",
       "Élément  dispo_proteine_T_g_hab_jr  dispo_proteine_ani_g_hab_jr  \\\n",
       "0                            90.06                        43.24   \n",
       "1                            58.26                        12.21   \n",
       "2                           111.37                        59.41   \n",
       "\n",
       "Élément  ratio_prot_ani_dispo_proteine_T  \n",
       "0                               0.480124  \n",
       "1                               0.209578  \n",
       "2                               0.533447  "
      ]
     },
     "execution_count": 84,
     "metadata": {},
     "output_type": "execute_result"
    }
   ],
   "source": [
    "df_regime_alim_pays.head(3)"
   ]
  },
  {
   "cell_type": "code",
   "execution_count": 85,
   "metadata": {},
   "outputs": [
    {
     "data": {
      "text/plain": [
       "(174, 6)"
      ]
     },
     "execution_count": 85,
     "metadata": {},
     "output_type": "execute_result"
    }
   ],
   "source": [
    "df_regime_alim_pays.shape"
   ]
  },
  {
   "cell_type": "code",
   "execution_count": 86,
   "metadata": {},
   "outputs": [
    {
     "data": {
      "text/plain": [
       "(174, 3)"
      ]
     },
     "execution_count": 86,
     "metadata": {},
     "output_type": "execute_result"
    }
   ],
   "source": [
    "df_population.shape"
   ]
  },
  {
   "cell_type": "markdown",
   "metadata": {},
   "source": [
    "### Création du dataframe contenant les quatre variables"
   ]
  },
  {
   "cell_type": "markdown",
   "metadata": {},
   "source": [
    "Jointure avec df_population et df_regime_alim_pays"
   ]
  },
  {
   "cell_type": "code",
   "execution_count": 87,
   "metadata": {},
   "outputs": [],
   "source": [
    "# jointure à droite pour récupérer des données 'entières'\n",
    "df_pop_alim = pd.merge(df_population, df_regime_alim_pays, how = 'right')"
   ]
  },
  {
   "cell_type": "code",
   "execution_count": 88,
   "metadata": {
    "scrolled": false
   },
   "outputs": [
    {
     "data": {
      "text/html": [
       "<div>\n",
       "<style scoped>\n",
       "    .dataframe tbody tr th:only-of-type {\n",
       "        vertical-align: middle;\n",
       "    }\n",
       "\n",
       "    .dataframe tbody tr th {\n",
       "        vertical-align: top;\n",
       "    }\n",
       "\n",
       "    .dataframe thead th {\n",
       "        text-align: right;\n",
       "    }\n",
       "</style>\n",
       "<table border=\"1\" class=\"dataframe\">\n",
       "  <thead>\n",
       "    <tr style=\"text-align: right;\">\n",
       "      <th></th>\n",
       "      <th>code_pays</th>\n",
       "      <th>pays</th>\n",
       "      <th>diff_pop_pourcent</th>\n",
       "      <th>dispo_alim_T_kcal_hab_jr</th>\n",
       "      <th>dispo_proteine_T_g_hab_jr</th>\n",
       "      <th>dispo_proteine_ani_g_hab_jr</th>\n",
       "      <th>ratio_prot_ani_dispo_proteine_T</th>\n",
       "    </tr>\n",
       "  </thead>\n",
       "  <tbody>\n",
       "    <tr>\n",
       "      <th>0</th>\n",
       "      <td>1</td>\n",
       "      <td>Arménie</td>\n",
       "      <td>-1.943347</td>\n",
       "      <td>2924.0</td>\n",
       "      <td>90.06</td>\n",
       "      <td>43.24</td>\n",
       "      <td>0.480124</td>\n",
       "    </tr>\n",
       "    <tr>\n",
       "      <th>1</th>\n",
       "      <td>2</td>\n",
       "      <td>Afghanistan</td>\n",
       "      <td>32.168195</td>\n",
       "      <td>2087.0</td>\n",
       "      <td>58.26</td>\n",
       "      <td>12.21</td>\n",
       "      <td>0.209578</td>\n",
       "    </tr>\n",
       "    <tr>\n",
       "      <th>2</th>\n",
       "      <td>3</td>\n",
       "      <td>Albanie</td>\n",
       "      <td>-2.037666</td>\n",
       "      <td>3188.0</td>\n",
       "      <td>111.37</td>\n",
       "      <td>59.41</td>\n",
       "      <td>0.533447</td>\n",
       "    </tr>\n",
       "    <tr>\n",
       "      <th>3</th>\n",
       "      <td>4</td>\n",
       "      <td>Algérie</td>\n",
       "      <td>18.801321</td>\n",
       "      <td>3293.0</td>\n",
       "      <td>91.92</td>\n",
       "      <td>24.98</td>\n",
       "      <td>0.271758</td>\n",
       "    </tr>\n",
       "    <tr>\n",
       "      <th>4</th>\n",
       "      <td>7</td>\n",
       "      <td>Angola</td>\n",
       "      <td>39.238700</td>\n",
       "      <td>2474.0</td>\n",
       "      <td>57.27</td>\n",
       "      <td>18.40</td>\n",
       "      <td>0.321285</td>\n",
       "    </tr>\n",
       "  </tbody>\n",
       "</table>\n",
       "</div>"
      ],
      "text/plain": [
       "   code_pays         pays  diff_pop_pourcent  dispo_alim_T_kcal_hab_jr  \\\n",
       "0          1      Arménie          -1.943347                    2924.0   \n",
       "1          2  Afghanistan          32.168195                    2087.0   \n",
       "2          3      Albanie          -2.037666                    3188.0   \n",
       "3          4      Algérie          18.801321                    3293.0   \n",
       "4          7       Angola          39.238700                    2474.0   \n",
       "\n",
       "   dispo_proteine_T_g_hab_jr  dispo_proteine_ani_g_hab_jr  \\\n",
       "0                      90.06                        43.24   \n",
       "1                      58.26                        12.21   \n",
       "2                     111.37                        59.41   \n",
       "3                      91.92                        24.98   \n",
       "4                      57.27                        18.40   \n",
       "\n",
       "   ratio_prot_ani_dispo_proteine_T  \n",
       "0                         0.480124  \n",
       "1                         0.209578  \n",
       "2                         0.533447  \n",
       "3                         0.271758  \n",
       "4                         0.321285  "
      ]
     },
     "execution_count": 88,
     "metadata": {},
     "output_type": "execute_result"
    }
   ],
   "source": [
    "df_pop_alim.head(5)"
   ]
  },
  {
   "cell_type": "code",
   "execution_count": 89,
   "metadata": {},
   "outputs": [],
   "source": [
    "# Suppression de la colonne 'dispo_proteine_ani_g_pr_hab_pr_jr'\n",
    "df_pop_dispo_alim = df_pop_alim.drop('dispo_proteine_ani_g_hab_jr', axis=1)"
   ]
  },
  {
   "cell_type": "code",
   "execution_count": 90,
   "metadata": {
    "scrolled": true
   },
   "outputs": [
    {
     "data": {
      "text/plain": [
       "(174, 6)"
      ]
     },
     "execution_count": 90,
     "metadata": {},
     "output_type": "execute_result"
    }
   ],
   "source": [
    "df_pop_dispo_alim.shape"
   ]
  },
  {
   "cell_type": "code",
   "execution_count": 91,
   "metadata": {},
   "outputs": [],
   "source": [
    "df_pop_dispo_alim = df_pop_dispo_alim.drop('code_pays', axis=1)"
   ]
  },
  {
   "cell_type": "code",
   "execution_count": 92,
   "metadata": {
    "scrolled": false
   },
   "outputs": [
    {
     "data": {
      "text/plain": [
       "pays                               0\n",
       "diff_pop_pourcent                  0\n",
       "dispo_alim_T_kcal_hab_jr           0\n",
       "dispo_proteine_T_g_hab_jr          0\n",
       "ratio_prot_ani_dispo_proteine_T    0\n",
       "dtype: int64"
      ]
     },
     "execution_count": 92,
     "metadata": {},
     "output_type": "execute_result"
    }
   ],
   "source": [
    "# valeur null\n",
    "df_pop_dispo_alim.isnull().sum()"
   ]
  },
  {
   "cell_type": "code",
   "execution_count": 93,
   "metadata": {
    "scrolled": true
   },
   "outputs": [
    {
     "data": {
      "text/html": [
       "<div>\n",
       "<style scoped>\n",
       "    .dataframe tbody tr th:only-of-type {\n",
       "        vertical-align: middle;\n",
       "    }\n",
       "\n",
       "    .dataframe tbody tr th {\n",
       "        vertical-align: top;\n",
       "    }\n",
       "\n",
       "    .dataframe thead th {\n",
       "        text-align: right;\n",
       "    }\n",
       "</style>\n",
       "<table border=\"1\" class=\"dataframe\">\n",
       "  <thead>\n",
       "    <tr style=\"text-align: right;\">\n",
       "      <th></th>\n",
       "      <th>pays</th>\n",
       "      <th>diff_pop_pourcent</th>\n",
       "      <th>dispo_alim_T_kcal_hab_jr</th>\n",
       "      <th>dispo_proteine_T_g_hab_jr</th>\n",
       "      <th>ratio_prot_ani_dispo_proteine_T</th>\n",
       "    </tr>\n",
       "  </thead>\n",
       "  <tbody>\n",
       "    <tr>\n",
       "      <th>0</th>\n",
       "      <td>Arménie</td>\n",
       "      <td>-1.943347</td>\n",
       "      <td>2924.0</td>\n",
       "      <td>90.06</td>\n",
       "      <td>0.480124</td>\n",
       "    </tr>\n",
       "    <tr>\n",
       "      <th>1</th>\n",
       "      <td>Afghanistan</td>\n",
       "      <td>32.168195</td>\n",
       "      <td>2087.0</td>\n",
       "      <td>58.26</td>\n",
       "      <td>0.209578</td>\n",
       "    </tr>\n",
       "    <tr>\n",
       "      <th>2</th>\n",
       "      <td>Albanie</td>\n",
       "      <td>-2.037666</td>\n",
       "      <td>3188.0</td>\n",
       "      <td>111.37</td>\n",
       "      <td>0.533447</td>\n",
       "    </tr>\n",
       "    <tr>\n",
       "      <th>3</th>\n",
       "      <td>Algérie</td>\n",
       "      <td>18.801321</td>\n",
       "      <td>3293.0</td>\n",
       "      <td>91.92</td>\n",
       "      <td>0.271758</td>\n",
       "    </tr>\n",
       "    <tr>\n",
       "      <th>4</th>\n",
       "      <td>Angola</td>\n",
       "      <td>39.238700</td>\n",
       "      <td>2474.0</td>\n",
       "      <td>57.27</td>\n",
       "      <td>0.321285</td>\n",
       "    </tr>\n",
       "  </tbody>\n",
       "</table>\n",
       "</div>"
      ],
      "text/plain": [
       "          pays  diff_pop_pourcent  dispo_alim_T_kcal_hab_jr  \\\n",
       "0      Arménie          -1.943347                    2924.0   \n",
       "1  Afghanistan          32.168195                    2087.0   \n",
       "2      Albanie          -2.037666                    3188.0   \n",
       "3      Algérie          18.801321                    3293.0   \n",
       "4       Angola          39.238700                    2474.0   \n",
       "\n",
       "   dispo_proteine_T_g_hab_jr  ratio_prot_ani_dispo_proteine_T  \n",
       "0                      90.06                         0.480124  \n",
       "1                      58.26                         0.209578  \n",
       "2                     111.37                         0.533447  \n",
       "3                      91.92                         0.271758  \n",
       "4                      57.27                         0.321285  "
      ]
     },
     "execution_count": 93,
     "metadata": {},
     "output_type": "execute_result"
    }
   ],
   "source": [
    "# Echantillon\n",
    "df_pop_dispo_alim.head(5)"
   ]
  },
  {
   "cell_type": "code",
   "execution_count": 94,
   "metadata": {},
   "outputs": [
    {
     "data": {
      "text/plain": [
       "(174, 5)"
      ]
     },
     "execution_count": 94,
     "metadata": {},
     "output_type": "execute_result"
    }
   ],
   "source": [
    "df_pop_dispo_alim.shape"
   ]
  },
  {
   "cell_type": "markdown",
   "metadata": {},
   "source": [
    "### Export du dataframe"
   ]
  },
  {
   "cell_type": "code",
   "execution_count": 95,
   "metadata": {},
   "outputs": [],
   "source": [
    "# Export en csv\n",
    "df_pop_dispo_alim.to_csv(\"df_pop_dispo_alim.csv\", index = False)"
   ]
  },
  {
   "cell_type": "markdown",
   "metadata": {},
   "source": [
    "### Données supplémentaires pour effectuer une analyse plus fine lors de l'ACP (variable illustrative)"
   ]
  },
  {
   "cell_type": "markdown",
   "metadata": {},
   "source": [
    "#### PIB 2013 : http://www.fao.org/faostat/fr/#data/FS"
   ]
  },
  {
   "cell_type": "code",
   "execution_count": 96,
   "metadata": {},
   "outputs": [],
   "source": [
    "# Importation et lecture des données PIB par habitant\n",
    "# usecols= ['Zone', 'Valeur']\n",
    "df_pib_fao = pd.read_csv('FAOSTAT_PIB_2013.csv', encoding= ENCODAGE, usecols= ['Zone', 'Valeur'])"
   ]
  },
  {
   "cell_type": "code",
   "execution_count": 97,
   "metadata": {
    "scrolled": true
   },
   "outputs": [
    {
     "data": {
      "text/html": [
       "<div>\n",
       "<style scoped>\n",
       "    .dataframe tbody tr th:only-of-type {\n",
       "        vertical-align: middle;\n",
       "    }\n",
       "\n",
       "    .dataframe tbody tr th {\n",
       "        vertical-align: top;\n",
       "    }\n",
       "\n",
       "    .dataframe thead th {\n",
       "        text-align: right;\n",
       "    }\n",
       "</style>\n",
       "<table border=\"1\" class=\"dataframe\">\n",
       "  <thead>\n",
       "    <tr style=\"text-align: right;\">\n",
       "      <th></th>\n",
       "      <th>Zone</th>\n",
       "      <th>Valeur</th>\n",
       "    </tr>\n",
       "  </thead>\n",
       "  <tbody>\n",
       "    <tr>\n",
       "      <th>0</th>\n",
       "      <td>Afghanistan</td>\n",
       "      <td>2264.3</td>\n",
       "    </tr>\n",
       "    <tr>\n",
       "      <th>1</th>\n",
       "      <td>Afrique du Sud</td>\n",
       "      <td>12852.3</td>\n",
       "    </tr>\n",
       "  </tbody>\n",
       "</table>\n",
       "</div>"
      ],
      "text/plain": [
       "             Zone   Valeur\n",
       "0     Afghanistan   2264.3\n",
       "1  Afrique du Sud  12852.3"
      ]
     },
     "execution_count": 97,
     "metadata": {},
     "output_type": "execute_result"
    }
   ],
   "source": [
    "df_pib_fao.head(2)"
   ]
  },
  {
   "cell_type": "code",
   "execution_count": 98,
   "metadata": {},
   "outputs": [
    {
     "data": {
      "text/html": [
       "<div>\n",
       "<style scoped>\n",
       "    .dataframe tbody tr th:only-of-type {\n",
       "        vertical-align: middle;\n",
       "    }\n",
       "\n",
       "    .dataframe tbody tr th {\n",
       "        vertical-align: top;\n",
       "    }\n",
       "\n",
       "    .dataframe thead th {\n",
       "        text-align: right;\n",
       "    }\n",
       "</style>\n",
       "<table border=\"1\" class=\"dataframe\">\n",
       "  <thead>\n",
       "    <tr style=\"text-align: right;\">\n",
       "      <th></th>\n",
       "      <th>Zone</th>\n",
       "      <th>Valeur</th>\n",
       "    </tr>\n",
       "  </thead>\n",
       "  <tbody>\n",
       "  </tbody>\n",
       "</table>\n",
       "</div>"
      ],
      "text/plain": [
       "Empty DataFrame\n",
       "Columns: [Zone, Valeur]\n",
       "Index: []"
      ]
     },
     "execution_count": 98,
     "metadata": {},
     "output_type": "execute_result"
    }
   ],
   "source": [
    "# Vérification que les Émirats arabes unis ne sont pas dans les données\n",
    "df_pib_fao[df_pib_fao['Valeur']=='Émirats arabes unis']"
   ]
  },
  {
   "cell_type": "code",
   "execution_count": 99,
   "metadata": {},
   "outputs": [
    {
     "data": {
      "text/plain": [
       "(185, 2)"
      ]
     },
     "execution_count": 99,
     "metadata": {},
     "output_type": "execute_result"
    }
   ],
   "source": [
    "df_pib_fao.shape"
   ]
  },
  {
   "cell_type": "code",
   "execution_count": 100,
   "metadata": {
    "scrolled": true
   },
   "outputs": [
    {
     "data": {
      "text/html": [
       "<div>\n",
       "<style scoped>\n",
       "    .dataframe tbody tr th:only-of-type {\n",
       "        vertical-align: middle;\n",
       "    }\n",
       "\n",
       "    .dataframe tbody tr th {\n",
       "        vertical-align: top;\n",
       "    }\n",
       "\n",
       "    .dataframe thead th {\n",
       "        text-align: right;\n",
       "    }\n",
       "</style>\n",
       "<table border=\"1\" class=\"dataframe\">\n",
       "  <thead>\n",
       "    <tr style=\"text-align: right;\">\n",
       "      <th></th>\n",
       "      <th>Valeur</th>\n",
       "    </tr>\n",
       "  </thead>\n",
       "  <tbody>\n",
       "    <tr>\n",
       "      <th>count</th>\n",
       "      <td>185.000000</td>\n",
       "    </tr>\n",
       "    <tr>\n",
       "      <th>mean</th>\n",
       "      <td>19455.309730</td>\n",
       "    </tr>\n",
       "    <tr>\n",
       "      <th>std</th>\n",
       "      <td>21921.375945</td>\n",
       "    </tr>\n",
       "    <tr>\n",
       "      <th>min</th>\n",
       "      <td>824.900000</td>\n",
       "    </tr>\n",
       "    <tr>\n",
       "      <th>25%</th>\n",
       "      <td>4028.400000</td>\n",
       "    </tr>\n",
       "    <tr>\n",
       "      <th>50%</th>\n",
       "      <td>11724.000000</td>\n",
       "    </tr>\n",
       "    <tr>\n",
       "      <th>75%</th>\n",
       "      <td>26485.600000</td>\n",
       "    </tr>\n",
       "    <tr>\n",
       "      <th>max</th>\n",
       "      <td>161939.000000</td>\n",
       "    </tr>\n",
       "  </tbody>\n",
       "</table>\n",
       "</div>"
      ],
      "text/plain": [
       "              Valeur\n",
       "count     185.000000\n",
       "mean    19455.309730\n",
       "std     21921.375945\n",
       "min       824.900000\n",
       "25%      4028.400000\n",
       "50%     11724.000000\n",
       "75%     26485.600000\n",
       "max    161939.000000"
      ]
     },
     "execution_count": 100,
     "metadata": {},
     "output_type": "execute_result"
    }
   ],
   "source": [
    "df_pib_fao.describe()"
   ]
  },
  {
   "cell_type": "code",
   "execution_count": 101,
   "metadata": {
    "scrolled": true
   },
   "outputs": [
    {
     "name": "stdout",
     "output_type": "stream",
     "text": [
      "<class 'pandas.core.frame.DataFrame'>\n",
      "RangeIndex: 185 entries, 0 to 184\n",
      "Data columns (total 2 columns):\n",
      " #   Column  Non-Null Count  Dtype  \n",
      "---  ------  --------------  -----  \n",
      " 0   Zone    185 non-null    object \n",
      " 1   Valeur  185 non-null    float64\n",
      "dtypes: float64(1), object(1)\n",
      "memory usage: 3.0+ KB\n"
     ]
    }
   ],
   "source": [
    "df_pib_fao.info()"
   ]
  },
  {
   "cell_type": "code",
   "execution_count": 102,
   "metadata": {
    "scrolled": true
   },
   "outputs": [
    {
     "data": {
      "text/plain": [
       "Zone      0\n",
       "Valeur    0\n",
       "dtype: int64"
      ]
     },
     "execution_count": 102,
     "metadata": {},
     "output_type": "execute_result"
    }
   ],
   "source": [
    "# Recherche des valeurs null\n",
    "df_pib_fao.isnull().sum()"
   ]
  },
  {
   "cell_type": "code",
   "execution_count": 103,
   "metadata": {},
   "outputs": [],
   "source": [
    "# Nommage des colonnes\n",
    "df_pib = df_pib_fao.rename(columns={\"Zone\":\"pays\", \"Valeur\":\"PIB_hab_dollars\"})                              "
   ]
  },
  {
   "cell_type": "code",
   "execution_count": 104,
   "metadata": {
    "scrolled": false
   },
   "outputs": [
    {
     "data": {
      "text/html": [
       "<div>\n",
       "<style scoped>\n",
       "    .dataframe tbody tr th:only-of-type {\n",
       "        vertical-align: middle;\n",
       "    }\n",
       "\n",
       "    .dataframe tbody tr th {\n",
       "        vertical-align: top;\n",
       "    }\n",
       "\n",
       "    .dataframe thead th {\n",
       "        text-align: right;\n",
       "    }\n",
       "</style>\n",
       "<table border=\"1\" class=\"dataframe\">\n",
       "  <thead>\n",
       "    <tr style=\"text-align: right;\">\n",
       "      <th></th>\n",
       "      <th>pays</th>\n",
       "      <th>PIB_hab_dollars</th>\n",
       "    </tr>\n",
       "  </thead>\n",
       "  <tbody>\n",
       "    <tr>\n",
       "      <th>0</th>\n",
       "      <td>Afghanistan</td>\n",
       "      <td>2264.3</td>\n",
       "    </tr>\n",
       "    <tr>\n",
       "      <th>1</th>\n",
       "      <td>Afrique du Sud</td>\n",
       "      <td>12852.3</td>\n",
       "    </tr>\n",
       "  </tbody>\n",
       "</table>\n",
       "</div>"
      ],
      "text/plain": [
       "             pays  PIB_hab_dollars\n",
       "0     Afghanistan           2264.3\n",
       "1  Afrique du Sud          12852.3"
      ]
     },
     "execution_count": 104,
     "metadata": {},
     "output_type": "execute_result"
    }
   ],
   "source": [
    "df_pib.head(2)"
   ]
  },
  {
   "cell_type": "code",
   "execution_count": 105,
   "metadata": {
    "scrolled": true
   },
   "outputs": [
    {
     "data": {
      "text/plain": [
       "(174, 3)"
      ]
     },
     "execution_count": 105,
     "metadata": {},
     "output_type": "execute_result"
    }
   ],
   "source": [
    "df_population.shape"
   ]
  },
  {
   "cell_type": "code",
   "execution_count": 106,
   "metadata": {},
   "outputs": [
    {
     "data": {
      "text/plain": [
       "(185, 2)"
      ]
     },
     "execution_count": 106,
     "metadata": {},
     "output_type": "execute_result"
    }
   ],
   "source": [
    "df_pib.shape"
   ]
  },
  {
   "cell_type": "code",
   "execution_count": 107,
   "metadata": {},
   "outputs": [],
   "source": [
    "# Fusion avec df_population afin de voir les pays qui n'ont pas de pib renseignés\n",
    "df_pib_2013f = pd.merge(df_population,df_pib, on='pays', how='left')"
   ]
  },
  {
   "cell_type": "code",
   "execution_count": 108,
   "metadata": {},
   "outputs": [],
   "source": [
    "#  Suppression des Émirats arabes unis du dataframe\n",
    "df_pib_2013f = df_pib_2013f.drop(df_pib_2013f[df_pib_2013f['pays']=='Émirats arabes unis'].index)"
   ]
  },
  {
   "cell_type": "code",
   "execution_count": 109,
   "metadata": {
    "scrolled": true
   },
   "outputs": [
    {
     "data": {
      "text/html": [
       "<div>\n",
       "<style scoped>\n",
       "    .dataframe tbody tr th:only-of-type {\n",
       "        vertical-align: middle;\n",
       "    }\n",
       "\n",
       "    .dataframe tbody tr th {\n",
       "        vertical-align: top;\n",
       "    }\n",
       "\n",
       "    .dataframe thead th {\n",
       "        text-align: right;\n",
       "    }\n",
       "</style>\n",
       "<table border=\"1\" class=\"dataframe\">\n",
       "  <thead>\n",
       "    <tr style=\"text-align: right;\">\n",
       "      <th></th>\n",
       "      <th>code_pays</th>\n",
       "      <th>pays</th>\n",
       "      <th>diff_pop_pourcent</th>\n",
       "      <th>PIB_hab_dollars</th>\n",
       "    </tr>\n",
       "  </thead>\n",
       "  <tbody>\n",
       "  </tbody>\n",
       "</table>\n",
       "</div>"
      ],
      "text/plain": [
       "Empty DataFrame\n",
       "Columns: [code_pays, pays, diff_pop_pourcent, PIB_hab_dollars]\n",
       "Index: []"
      ]
     },
     "execution_count": 109,
     "metadata": {},
     "output_type": "execute_result"
    }
   ],
   "source": [
    "# Vérification de la suppression des Émirats arabes unis du dataframe\n",
    "df_pib_2013f[df_pib_2013f['pays']=='Émirats arabes unis']"
   ]
  },
  {
   "cell_type": "code",
   "execution_count": 110,
   "metadata": {
    "scrolled": false
   },
   "outputs": [
    {
     "data": {
      "text/plain": [
       "code_pays            0\n",
       "pays                 0\n",
       "diff_pop_pourcent    0\n",
       "PIB_hab_dollars      8\n",
       "dtype: int64"
      ]
     },
     "execution_count": 110,
     "metadata": {},
     "output_type": "execute_result"
    }
   ],
   "source": [
    "df_pib_2013f.isnull().sum()"
   ]
  },
  {
   "cell_type": "code",
   "execution_count": 111,
   "metadata": {},
   "outputs": [
    {
     "data": {
      "text/plain": [
       "(173, 4)"
      ]
     },
     "execution_count": 111,
     "metadata": {},
     "output_type": "execute_result"
    }
   ],
   "source": [
    "df_pib_2013f.shape"
   ]
  },
  {
   "cell_type": "code",
   "execution_count": 112,
   "metadata": {
    "scrolled": true
   },
   "outputs": [
    {
     "data": {
      "text/html": [
       "<div>\n",
       "<style scoped>\n",
       "    .dataframe tbody tr th:only-of-type {\n",
       "        vertical-align: middle;\n",
       "    }\n",
       "\n",
       "    .dataframe tbody tr th {\n",
       "        vertical-align: top;\n",
       "    }\n",
       "\n",
       "    .dataframe thead th {\n",
       "        text-align: right;\n",
       "    }\n",
       "</style>\n",
       "<table border=\"1\" class=\"dataframe\">\n",
       "  <thead>\n",
       "    <tr style=\"text-align: right;\">\n",
       "      <th></th>\n",
       "      <th>code_pays</th>\n",
       "      <th>pays</th>\n",
       "      <th>diff_pop_pourcent</th>\n",
       "      <th>PIB_hab_dollars</th>\n",
       "    </tr>\n",
       "  </thead>\n",
       "  <tbody>\n",
       "    <tr>\n",
       "      <th>12</th>\n",
       "      <td>17</td>\n",
       "      <td>Bermudes</td>\n",
       "      <td>1.562500</td>\n",
       "      <td>NaN</td>\n",
       "    </tr>\n",
       "    <tr>\n",
       "      <th>32</th>\n",
       "      <td>49</td>\n",
       "      <td>Cuba</td>\n",
       "      <td>0.177841</td>\n",
       "      <td>NaN</td>\n",
       "    </tr>\n",
       "    <tr>\n",
       "      <th>47</th>\n",
       "      <td>70</td>\n",
       "      <td>Polynésie française</td>\n",
       "      <td>11.244980</td>\n",
       "      <td>NaN</td>\n",
       "    </tr>\n",
       "    <tr>\n",
       "      <th>82</th>\n",
       "      <td>116</td>\n",
       "      <td>République populaire démocratique de Corée</td>\n",
       "      <td>6.166574</td>\n",
       "      <td>NaN</td>\n",
       "    </tr>\n",
       "    <tr>\n",
       "      <th>108</th>\n",
       "      <td>153</td>\n",
       "      <td>Nouvelle-Calédonie</td>\n",
       "      <td>15.837104</td>\n",
       "      <td>NaN</td>\n",
       "    </tr>\n",
       "    <tr>\n",
       "      <th>147</th>\n",
       "      <td>214</td>\n",
       "      <td>Chine, Taiwan Province de</td>\n",
       "      <td>3.975399</td>\n",
       "      <td>NaN</td>\n",
       "    </tr>\n",
       "    <tr>\n",
       "      <th>163</th>\n",
       "      <td>236</td>\n",
       "      <td>Venezuela (République bolivarienne du)</td>\n",
       "      <td>17.862542</td>\n",
       "      <td>NaN</td>\n",
       "    </tr>\n",
       "    <tr>\n",
       "      <th>167</th>\n",
       "      <td>249</td>\n",
       "      <td>Yémen</td>\n",
       "      <td>27.912583</td>\n",
       "      <td>NaN</td>\n",
       "    </tr>\n",
       "  </tbody>\n",
       "</table>\n",
       "</div>"
      ],
      "text/plain": [
       "     code_pays                                        pays  diff_pop_pourcent  \\\n",
       "12          17                                    Bermudes           1.562500   \n",
       "32          49                                        Cuba           0.177841   \n",
       "47          70                         Polynésie française          11.244980   \n",
       "82         116  République populaire démocratique de Corée           6.166574   \n",
       "108        153                          Nouvelle-Calédonie          15.837104   \n",
       "147        214                   Chine, Taiwan Province de           3.975399   \n",
       "163        236      Venezuela (République bolivarienne du)          17.862542   \n",
       "167        249                                       Yémen          27.912583   \n",
       "\n",
       "     PIB_hab_dollars  \n",
       "12               NaN  \n",
       "32               NaN  \n",
       "47               NaN  \n",
       "82               NaN  \n",
       "108              NaN  \n",
       "147              NaN  \n",
       "163              NaN  \n",
       "167              NaN  "
      ]
     },
     "execution_count": 112,
     "metadata": {},
     "output_type": "execute_result"
    }
   ],
   "source": [
    "#  Aucune données PIB sur ces pays\n",
    "pays_sans_pib = df_pib_2013f[df_pib_2013f.PIB_hab_dollars.isnull()]\n",
    "pays_sans_pib"
   ]
  },
  {
   "cell_type": "code",
   "execution_count": 113,
   "metadata": {},
   "outputs": [],
   "source": [
    "# remplacement des valeurs nulles par la moyenne de la variable PIB\n",
    "df_pib_2013f = df_pib_2013f.fillna(df_pib_2013f.mean())"
   ]
  },
  {
   "cell_type": "code",
   "execution_count": 114,
   "metadata": {},
   "outputs": [
    {
     "data": {
      "text/plain": [
       "(8, 4)"
      ]
     },
     "execution_count": 114,
     "metadata": {},
     "output_type": "execute_result"
    }
   ],
   "source": [
    "pays_sans_pib.shape"
   ]
  },
  {
   "cell_type": "code",
   "execution_count": 115,
   "metadata": {},
   "outputs": [
    {
     "data": {
      "text/plain": [
       "code_pays            0\n",
       "pays                 0\n",
       "diff_pop_pourcent    0\n",
       "PIB_hab_dollars      0\n",
       "dtype: int64"
      ]
     },
     "execution_count": 115,
     "metadata": {},
     "output_type": "execute_result"
    }
   ],
   "source": [
    "# vérification qu'il n'y ait plus de NaN\n",
    "df_pib_2013f.isnull().sum()"
   ]
  },
  {
   "cell_type": "code",
   "execution_count": 116,
   "metadata": {
    "scrolled": true
   },
   "outputs": [
    {
     "data": {
      "text/plain": [
       "(173, 4)"
      ]
     },
     "execution_count": 116,
     "metadata": {},
     "output_type": "execute_result"
    }
   ],
   "source": [
    "df_pib_2013f.shape"
   ]
  },
  {
   "cell_type": "code",
   "execution_count": 117,
   "metadata": {},
   "outputs": [],
   "source": [
    "df_pib_2013 = df_pib_2013f[['pays', 'PIB_hab_dollars']]"
   ]
  },
  {
   "cell_type": "code",
   "execution_count": 118,
   "metadata": {},
   "outputs": [
    {
     "data": {
      "text/html": [
       "<div>\n",
       "<style scoped>\n",
       "    .dataframe tbody tr th:only-of-type {\n",
       "        vertical-align: middle;\n",
       "    }\n",
       "\n",
       "    .dataframe tbody tr th {\n",
       "        vertical-align: top;\n",
       "    }\n",
       "\n",
       "    .dataframe thead th {\n",
       "        text-align: right;\n",
       "    }\n",
       "</style>\n",
       "<table border=\"1\" class=\"dataframe\">\n",
       "  <thead>\n",
       "    <tr style=\"text-align: right;\">\n",
       "      <th></th>\n",
       "      <th>pays</th>\n",
       "      <th>PIB_hab_dollars</th>\n",
       "    </tr>\n",
       "  </thead>\n",
       "  <tbody>\n",
       "  </tbody>\n",
       "</table>\n",
       "</div>"
      ],
      "text/plain": [
       "Empty DataFrame\n",
       "Columns: [pays, PIB_hab_dollars]\n",
       "Index: []"
      ]
     },
     "execution_count": 118,
     "metadata": {},
     "output_type": "execute_result"
    }
   ],
   "source": [
    "df_pib_2013[df_pib_2013['pays']=='Émirats arabes unis']"
   ]
  },
  {
   "cell_type": "code",
   "execution_count": 119,
   "metadata": {},
   "outputs": [],
   "source": [
    "# Export en csv\n",
    "df_pib_2013.to_csv(\"df_pib_2013.csv\", index = False)"
   ]
  },
  {
   "cell_type": "code",
   "execution_count": null,
   "metadata": {},
   "outputs": [],
   "source": []
  }
 ],
 "metadata": {
  "kernelspec": {
   "display_name": "Python 3",
   "language": "python",
   "name": "python3"
  },
  "language_info": {
   "codemirror_mode": {
    "name": "ipython",
    "version": 3
   },
   "file_extension": ".py",
   "mimetype": "text/x-python",
   "name": "python",
   "nbconvert_exporter": "python",
   "pygments_lexer": "ipython3",
   "version": "3.8.5"
  }
 },
 "nbformat": 4,
 "nbformat_minor": 4
}
